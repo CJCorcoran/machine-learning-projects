{
  "cells": [
    {
      "cell_type": "markdown",
      "id": "d4218f8b",
      "metadata": {
        "id": "d4218f8b"
      },
      "source": [
        "# Heart Disease Prediction with a Machine Learning/Deep Learning Models\n",
        "\n",
        "Summary:\n",
        "\n",
        "This notebook utilizes multiple Python-based machine learning libraries, in combination with a patient's medical attributes, to create a machine learning model for predicting heart disease.  I was able to achieve a cross-validated accuracy of close to 84% with [logistic regression](https://en.wikipedia.org/wiki/Logistic_regression). A simple deep learning model -- as a quick sanity check -- was also employed to obtain an accuracy of 86.7%. The biggest predictors for heart disease were the patient's maximum heart rate during investigation, Thalassemia diagnosis, and the outcome of fluoroscopy characterization.\n",
        "\n",
        "Outline of the notebook:\n",
        "\n",
        "1. Problem Statement\n",
        "2. Data Source\n",
        "3. Evaluation Metrics\n",
        "4. Data Analysis\n",
        "5. Modeling Data and Results\n",
        "6. Conclusions\n",
        "\n",
        "\n",
        "### 1. Problem Statement: \n",
        "\n",
        "Predicting whether or not a patient has heart disease (a binary classification problem) based on their medical attributes.\n",
        "\n",
        "### 2. Data\n",
        "\n",
        "Data was obtained via [Kaggle](https://www.kaggle.com/datasets/cherngs/heart-disease-cleveland-uci) based on a data set provided by Heart Disease Cleaveland UCI.\n",
        "\n",
        "### 3. Evaluation Metrics\n",
        "\n",
        "Goal: Best possible accuracy.  I will be using [logistic regression](https://en.wikipedia.org/wiki/Logistic_regression), a [K-nearest neighbors algorithm](https://en.wikipedia.org/wiki/K-nearest_neighbors_algorithm), and a [random forest algorithm](https://en.wikipedia.org/wiki/Random_forest) as my models; I will also use a simple deep learning model as another reference.\n",
        "\n",
        "### 4. Data Analysis\n",
        "\n",
        "**Data dictionary**\n",
        "\n",
        "13 attributes are listed from the data as follows:\n",
        "\n",
        "Age: Age of patient\n",
        "Sex:\n",
        "\n",
        "    0: Female\n",
        "    1: Male\n",
        "\n",
        "Chest Pain Type:\n",
        "\n",
        "    0: Typical Angina\n",
        "    1: Atypical Angina\n",
        "    2: Non-Anginal Pain\n",
        "    3: Asymptomatic\n",
        "\n",
        "Resting Blood Pressure: Person's resting blood pressure.\n",
        "\n",
        "[Cholesterol](https://en.wikipedia.org/wiki/Cholesterol): Serum Cholesterol in mg/dl\n",
        "\n",
        "Fasting [Blood Sugar](https://en.wikipedia.org/wiki/Blood_sugar_level):\n",
        "\n",
        "    0:Less Than 120mg/ml\n",
        "    1: Greater Than 120mg/ml\n",
        "\n",
        "Resting [Electrocardiographic](https://en.wikipedia.org/wiki/Electrocardiography) Measurement:\n",
        "\n",
        "    0: Normal\n",
        "    1: ST-T Wave Abnormality\n",
        "    2: Left Ventricular Hypertrophy\n",
        "\n",
        "Max Heart Rate Achieved: Maximum Heart Rate Achieved\n",
        "Exercise Induced Angina:\n",
        "\n",
        "    1: Yes\n",
        "    0: No\n",
        "\n",
        "ST Depression: ST depression induced by exercise relative to rest.\n",
        "Slope: Slope of the peak exercise ST segment:\n",
        "\n",
        "    0: Upsloping\n",
        "    1: Flat\n",
        "    2: Downsloping\n",
        "\n",
        "[Thalassemia](https://en.wikipedia.org/wiki/Thalassemia): an inherited blood disorder that causes your body to have less hemoglobin than normal\n",
        "\n",
        "    0: Normal\n",
        "    1: Fixed Defect\n",
        "    2: Reversable Defect\n",
        "\n",
        "Number of Major Vessels: Number of major vessels colored by [fluoroscopy](https://en.wikipedia.org/wiki/Fluoroscopy) (a procedire used to help the healthcare provider see the flow of blood through the coronary arteries).\n"
      ]
    },
    {
      "cell_type": "code",
      "execution_count": 2,
      "id": "e753d4f0",
      "metadata": {
        "id": "e753d4f0"
      },
      "outputs": [],
      "source": [
        "# Will use Numpy, pandas, and Matplotlib to explore the data\n",
        "\n",
        "import numpy as np\n",
        "import pandas as pd\n",
        "import matplotlib.pyplot as plt\n",
        "import seaborn as sns\n",
        "%matplotlib inline\n",
        "from sklearn.preprocessing import StandardScaler, MinMaxScaler\n",
        "\n",
        "# Models from scikit-learn\n",
        "from sklearn.neighbors import KNeighborsClassifier\n",
        "from sklearn.ensemble import RandomForestClassifier\n",
        "from sklearn.linear_model import LogisticRegression\n",
        "\n",
        "\n",
        "#Models\n",
        "from sklearn.model_selection import train_test_split, cross_val_score\n",
        "from sklearn.model_selection import RandomizedSearchCV, GridSearchCV\n",
        "from sklearn.metrics import confusion_matrix, classification_report\n",
        "from sklearn.metrics import precision_score, recall_score, f1_score, plot_roc_curve\n"
      ]
    },
    {
      "cell_type": "code",
      "source": [
        "from google.colab import drive\n",
        "drive.mount('/content/drive')"
      ],
      "metadata": {
        "colab": {
          "base_uri": "https://localhost:8080/"
        },
        "id": "ZbpNKTR-COnw",
        "outputId": "825e3429-bec7-4386-d45b-12c663130fbb"
      },
      "id": "ZbpNKTR-COnw",
      "execution_count": 1,
      "outputs": [
        {
          "output_type": "stream",
          "name": "stdout",
          "text": [
            "Mounted at /content/drive\n"
          ]
        }
      ]
    },
    {
      "cell_type": "code",
      "execution_count": 3,
      "id": "89a782a3",
      "metadata": {
        "colab": {
          "base_uri": "https://localhost:8080/"
        },
        "id": "89a782a3",
        "outputId": "271bb715-a43a-4c40-db01-a2b8628d8a5d"
      },
      "outputs": [
        {
          "output_type": "execute_result",
          "data": {
            "text/plain": [
              "(297, 14)"
            ]
          },
          "metadata": {},
          "execution_count": 3
        }
      ],
      "source": [
        "# Load data\n",
        "\"\"\"\n",
        "Note: for file location check the data folder of this project or you can get the data from Kaggle.\n",
        "\"\"\"\n",
        "\n",
        "df = pd.read_csv(\"/content/drive/MyDrive/Colab Notebooks/heart data/heart_cleveland_upload.csv\")\n",
        "df.shape\n",
        "\n",
        "# data has 297 rows/14 columns"
      ]
    },
    {
      "cell_type": "code",
      "execution_count": 4,
      "id": "56efd510",
      "metadata": {
        "colab": {
          "base_uri": "https://localhost:8080/",
          "height": 206
        },
        "id": "56efd510",
        "outputId": "a242ac48-27f7-4d83-f293-b6f8a42def4a"
      },
      "outputs": [
        {
          "output_type": "execute_result",
          "data": {
            "text/plain": [
              "   age  sex  cp  trestbps  chol  fbs  restecg  thalach  exang  oldpeak  slope  \\\n",
              "0   69    1   0       160   234    1        2      131      0      0.1      1   \n",
              "1   69    0   0       140   239    0        0      151      0      1.8      0   \n",
              "2   66    0   0       150   226    0        0      114      0      2.6      2   \n",
              "3   65    1   0       138   282    1        2      174      0      1.4      1   \n",
              "4   64    1   0       110   211    0        2      144      1      1.8      1   \n",
              "\n",
              "   ca  thal  condition  \n",
              "0   1     0          0  \n",
              "1   2     0          0  \n",
              "2   0     0          0  \n",
              "3   1     0          1  \n",
              "4   0     0          0  "
            ],
            "text/html": [
              "\n",
              "  <div id=\"df-4abed538-aeb9-4a1e-a103-2fa0acb339c9\">\n",
              "    <div class=\"colab-df-container\">\n",
              "      <div>\n",
              "<style scoped>\n",
              "    .dataframe tbody tr th:only-of-type {\n",
              "        vertical-align: middle;\n",
              "    }\n",
              "\n",
              "    .dataframe tbody tr th {\n",
              "        vertical-align: top;\n",
              "    }\n",
              "\n",
              "    .dataframe thead th {\n",
              "        text-align: right;\n",
              "    }\n",
              "</style>\n",
              "<table border=\"1\" class=\"dataframe\">\n",
              "  <thead>\n",
              "    <tr style=\"text-align: right;\">\n",
              "      <th></th>\n",
              "      <th>age</th>\n",
              "      <th>sex</th>\n",
              "      <th>cp</th>\n",
              "      <th>trestbps</th>\n",
              "      <th>chol</th>\n",
              "      <th>fbs</th>\n",
              "      <th>restecg</th>\n",
              "      <th>thalach</th>\n",
              "      <th>exang</th>\n",
              "      <th>oldpeak</th>\n",
              "      <th>slope</th>\n",
              "      <th>ca</th>\n",
              "      <th>thal</th>\n",
              "      <th>condition</th>\n",
              "    </tr>\n",
              "  </thead>\n",
              "  <tbody>\n",
              "    <tr>\n",
              "      <th>0</th>\n",
              "      <td>69</td>\n",
              "      <td>1</td>\n",
              "      <td>0</td>\n",
              "      <td>160</td>\n",
              "      <td>234</td>\n",
              "      <td>1</td>\n",
              "      <td>2</td>\n",
              "      <td>131</td>\n",
              "      <td>0</td>\n",
              "      <td>0.1</td>\n",
              "      <td>1</td>\n",
              "      <td>1</td>\n",
              "      <td>0</td>\n",
              "      <td>0</td>\n",
              "    </tr>\n",
              "    <tr>\n",
              "      <th>1</th>\n",
              "      <td>69</td>\n",
              "      <td>0</td>\n",
              "      <td>0</td>\n",
              "      <td>140</td>\n",
              "      <td>239</td>\n",
              "      <td>0</td>\n",
              "      <td>0</td>\n",
              "      <td>151</td>\n",
              "      <td>0</td>\n",
              "      <td>1.8</td>\n",
              "      <td>0</td>\n",
              "      <td>2</td>\n",
              "      <td>0</td>\n",
              "      <td>0</td>\n",
              "    </tr>\n",
              "    <tr>\n",
              "      <th>2</th>\n",
              "      <td>66</td>\n",
              "      <td>0</td>\n",
              "      <td>0</td>\n",
              "      <td>150</td>\n",
              "      <td>226</td>\n",
              "      <td>0</td>\n",
              "      <td>0</td>\n",
              "      <td>114</td>\n",
              "      <td>0</td>\n",
              "      <td>2.6</td>\n",
              "      <td>2</td>\n",
              "      <td>0</td>\n",
              "      <td>0</td>\n",
              "      <td>0</td>\n",
              "    </tr>\n",
              "    <tr>\n",
              "      <th>3</th>\n",
              "      <td>65</td>\n",
              "      <td>1</td>\n",
              "      <td>0</td>\n",
              "      <td>138</td>\n",
              "      <td>282</td>\n",
              "      <td>1</td>\n",
              "      <td>2</td>\n",
              "      <td>174</td>\n",
              "      <td>0</td>\n",
              "      <td>1.4</td>\n",
              "      <td>1</td>\n",
              "      <td>1</td>\n",
              "      <td>0</td>\n",
              "      <td>1</td>\n",
              "    </tr>\n",
              "    <tr>\n",
              "      <th>4</th>\n",
              "      <td>64</td>\n",
              "      <td>1</td>\n",
              "      <td>0</td>\n",
              "      <td>110</td>\n",
              "      <td>211</td>\n",
              "      <td>0</td>\n",
              "      <td>2</td>\n",
              "      <td>144</td>\n",
              "      <td>1</td>\n",
              "      <td>1.8</td>\n",
              "      <td>1</td>\n",
              "      <td>0</td>\n",
              "      <td>0</td>\n",
              "      <td>0</td>\n",
              "    </tr>\n",
              "  </tbody>\n",
              "</table>\n",
              "</div>\n",
              "      <button class=\"colab-df-convert\" onclick=\"convertToInteractive('df-4abed538-aeb9-4a1e-a103-2fa0acb339c9')\"\n",
              "              title=\"Convert this dataframe to an interactive table.\"\n",
              "              style=\"display:none;\">\n",
              "        \n",
              "  <svg xmlns=\"http://www.w3.org/2000/svg\" height=\"24px\"viewBox=\"0 0 24 24\"\n",
              "       width=\"24px\">\n",
              "    <path d=\"M0 0h24v24H0V0z\" fill=\"none\"/>\n",
              "    <path d=\"M18.56 5.44l.94 2.06.94-2.06 2.06-.94-2.06-.94-.94-2.06-.94 2.06-2.06.94zm-11 1L8.5 8.5l.94-2.06 2.06-.94-2.06-.94L8.5 2.5l-.94 2.06-2.06.94zm10 10l.94 2.06.94-2.06 2.06-.94-2.06-.94-.94-2.06-.94 2.06-2.06.94z\"/><path d=\"M17.41 7.96l-1.37-1.37c-.4-.4-.92-.59-1.43-.59-.52 0-1.04.2-1.43.59L10.3 9.45l-7.72 7.72c-.78.78-.78 2.05 0 2.83L4 21.41c.39.39.9.59 1.41.59.51 0 1.02-.2 1.41-.59l7.78-7.78 2.81-2.81c.8-.78.8-2.07 0-2.86zM5.41 20L4 18.59l7.72-7.72 1.47 1.35L5.41 20z\"/>\n",
              "  </svg>\n",
              "      </button>\n",
              "      \n",
              "  <style>\n",
              "    .colab-df-container {\n",
              "      display:flex;\n",
              "      flex-wrap:wrap;\n",
              "      gap: 12px;\n",
              "    }\n",
              "\n",
              "    .colab-df-convert {\n",
              "      background-color: #E8F0FE;\n",
              "      border: none;\n",
              "      border-radius: 50%;\n",
              "      cursor: pointer;\n",
              "      display: none;\n",
              "      fill: #1967D2;\n",
              "      height: 32px;\n",
              "      padding: 0 0 0 0;\n",
              "      width: 32px;\n",
              "    }\n",
              "\n",
              "    .colab-df-convert:hover {\n",
              "      background-color: #E2EBFA;\n",
              "      box-shadow: 0px 1px 2px rgba(60, 64, 67, 0.3), 0px 1px 3px 1px rgba(60, 64, 67, 0.15);\n",
              "      fill: #174EA6;\n",
              "    }\n",
              "\n",
              "    [theme=dark] .colab-df-convert {\n",
              "      background-color: #3B4455;\n",
              "      fill: #D2E3FC;\n",
              "    }\n",
              "\n",
              "    [theme=dark] .colab-df-convert:hover {\n",
              "      background-color: #434B5C;\n",
              "      box-shadow: 0px 1px 3px 1px rgba(0, 0, 0, 0.15);\n",
              "      filter: drop-shadow(0px 1px 2px rgba(0, 0, 0, 0.3));\n",
              "      fill: #FFFFFF;\n",
              "    }\n",
              "  </style>\n",
              "\n",
              "      <script>\n",
              "        const buttonEl =\n",
              "          document.querySelector('#df-4abed538-aeb9-4a1e-a103-2fa0acb339c9 button.colab-df-convert');\n",
              "        buttonEl.style.display =\n",
              "          google.colab.kernel.accessAllowed ? 'block' : 'none';\n",
              "\n",
              "        async function convertToInteractive(key) {\n",
              "          const element = document.querySelector('#df-4abed538-aeb9-4a1e-a103-2fa0acb339c9');\n",
              "          const dataTable =\n",
              "            await google.colab.kernel.invokeFunction('convertToInteractive',\n",
              "                                                     [key], {});\n",
              "          if (!dataTable) return;\n",
              "\n",
              "          const docLinkHtml = 'Like what you see? Visit the ' +\n",
              "            '<a target=\"_blank\" href=https://colab.research.google.com/notebooks/data_table.ipynb>data table notebook</a>'\n",
              "            + ' to learn more about interactive tables.';\n",
              "          element.innerHTML = '';\n",
              "          dataTable['output_type'] = 'display_data';\n",
              "          await google.colab.output.renderOutput(dataTable, element);\n",
              "          const docLink = document.createElement('div');\n",
              "          docLink.innerHTML = docLinkHtml;\n",
              "          element.appendChild(docLink);\n",
              "        }\n",
              "      </script>\n",
              "    </div>\n",
              "  </div>\n",
              "  "
            ]
          },
          "metadata": {},
          "execution_count": 4
        }
      ],
      "source": [
        "## Exploratory Data Analysis\n",
        "\n",
        "df.head()\n"
      ]
    },
    {
      "cell_type": "code",
      "execution_count": 5,
      "id": "6578d1ff",
      "metadata": {
        "colab": {
          "base_uri": "https://localhost:8080/",
          "height": 206
        },
        "id": "6578d1ff",
        "outputId": "72d2a694-c2a1-4227-8576-9ad26abf156c"
      },
      "outputs": [
        {
          "output_type": "execute_result",
          "data": {
            "text/plain": [
              "     age  sex  cp  trestbps  chol  fbs  restecg  thalach  exang  oldpeak  \\\n",
              "292   40    1   3       152   223    0        0      181      0      0.0   \n",
              "293   39    1   3       118   219    0        0      140      0      1.2   \n",
              "294   35    1   3       120   198    0        0      130      1      1.6   \n",
              "295   35    0   3       138   183    0        0      182      0      1.4   \n",
              "296   35    1   3       126   282    0        2      156      1      0.0   \n",
              "\n",
              "     slope  ca  thal  condition  \n",
              "292      0   0     2          1  \n",
              "293      1   0     2          1  \n",
              "294      1   0     2          1  \n",
              "295      0   0     0          0  \n",
              "296      0   0     2          1  "
            ],
            "text/html": [
              "\n",
              "  <div id=\"df-ec12e1e1-aacf-4eaa-984f-be73100e663b\">\n",
              "    <div class=\"colab-df-container\">\n",
              "      <div>\n",
              "<style scoped>\n",
              "    .dataframe tbody tr th:only-of-type {\n",
              "        vertical-align: middle;\n",
              "    }\n",
              "\n",
              "    .dataframe tbody tr th {\n",
              "        vertical-align: top;\n",
              "    }\n",
              "\n",
              "    .dataframe thead th {\n",
              "        text-align: right;\n",
              "    }\n",
              "</style>\n",
              "<table border=\"1\" class=\"dataframe\">\n",
              "  <thead>\n",
              "    <tr style=\"text-align: right;\">\n",
              "      <th></th>\n",
              "      <th>age</th>\n",
              "      <th>sex</th>\n",
              "      <th>cp</th>\n",
              "      <th>trestbps</th>\n",
              "      <th>chol</th>\n",
              "      <th>fbs</th>\n",
              "      <th>restecg</th>\n",
              "      <th>thalach</th>\n",
              "      <th>exang</th>\n",
              "      <th>oldpeak</th>\n",
              "      <th>slope</th>\n",
              "      <th>ca</th>\n",
              "      <th>thal</th>\n",
              "      <th>condition</th>\n",
              "    </tr>\n",
              "  </thead>\n",
              "  <tbody>\n",
              "    <tr>\n",
              "      <th>292</th>\n",
              "      <td>40</td>\n",
              "      <td>1</td>\n",
              "      <td>3</td>\n",
              "      <td>152</td>\n",
              "      <td>223</td>\n",
              "      <td>0</td>\n",
              "      <td>0</td>\n",
              "      <td>181</td>\n",
              "      <td>0</td>\n",
              "      <td>0.0</td>\n",
              "      <td>0</td>\n",
              "      <td>0</td>\n",
              "      <td>2</td>\n",
              "      <td>1</td>\n",
              "    </tr>\n",
              "    <tr>\n",
              "      <th>293</th>\n",
              "      <td>39</td>\n",
              "      <td>1</td>\n",
              "      <td>3</td>\n",
              "      <td>118</td>\n",
              "      <td>219</td>\n",
              "      <td>0</td>\n",
              "      <td>0</td>\n",
              "      <td>140</td>\n",
              "      <td>0</td>\n",
              "      <td>1.2</td>\n",
              "      <td>1</td>\n",
              "      <td>0</td>\n",
              "      <td>2</td>\n",
              "      <td>1</td>\n",
              "    </tr>\n",
              "    <tr>\n",
              "      <th>294</th>\n",
              "      <td>35</td>\n",
              "      <td>1</td>\n",
              "      <td>3</td>\n",
              "      <td>120</td>\n",
              "      <td>198</td>\n",
              "      <td>0</td>\n",
              "      <td>0</td>\n",
              "      <td>130</td>\n",
              "      <td>1</td>\n",
              "      <td>1.6</td>\n",
              "      <td>1</td>\n",
              "      <td>0</td>\n",
              "      <td>2</td>\n",
              "      <td>1</td>\n",
              "    </tr>\n",
              "    <tr>\n",
              "      <th>295</th>\n",
              "      <td>35</td>\n",
              "      <td>0</td>\n",
              "      <td>3</td>\n",
              "      <td>138</td>\n",
              "      <td>183</td>\n",
              "      <td>0</td>\n",
              "      <td>0</td>\n",
              "      <td>182</td>\n",
              "      <td>0</td>\n",
              "      <td>1.4</td>\n",
              "      <td>0</td>\n",
              "      <td>0</td>\n",
              "      <td>0</td>\n",
              "      <td>0</td>\n",
              "    </tr>\n",
              "    <tr>\n",
              "      <th>296</th>\n",
              "      <td>35</td>\n",
              "      <td>1</td>\n",
              "      <td>3</td>\n",
              "      <td>126</td>\n",
              "      <td>282</td>\n",
              "      <td>0</td>\n",
              "      <td>2</td>\n",
              "      <td>156</td>\n",
              "      <td>1</td>\n",
              "      <td>0.0</td>\n",
              "      <td>0</td>\n",
              "      <td>0</td>\n",
              "      <td>2</td>\n",
              "      <td>1</td>\n",
              "    </tr>\n",
              "  </tbody>\n",
              "</table>\n",
              "</div>\n",
              "      <button class=\"colab-df-convert\" onclick=\"convertToInteractive('df-ec12e1e1-aacf-4eaa-984f-be73100e663b')\"\n",
              "              title=\"Convert this dataframe to an interactive table.\"\n",
              "              style=\"display:none;\">\n",
              "        \n",
              "  <svg xmlns=\"http://www.w3.org/2000/svg\" height=\"24px\"viewBox=\"0 0 24 24\"\n",
              "       width=\"24px\">\n",
              "    <path d=\"M0 0h24v24H0V0z\" fill=\"none\"/>\n",
              "    <path d=\"M18.56 5.44l.94 2.06.94-2.06 2.06-.94-2.06-.94-.94-2.06-.94 2.06-2.06.94zm-11 1L8.5 8.5l.94-2.06 2.06-.94-2.06-.94L8.5 2.5l-.94 2.06-2.06.94zm10 10l.94 2.06.94-2.06 2.06-.94-2.06-.94-.94-2.06-.94 2.06-2.06.94z\"/><path d=\"M17.41 7.96l-1.37-1.37c-.4-.4-.92-.59-1.43-.59-.52 0-1.04.2-1.43.59L10.3 9.45l-7.72 7.72c-.78.78-.78 2.05 0 2.83L4 21.41c.39.39.9.59 1.41.59.51 0 1.02-.2 1.41-.59l7.78-7.78 2.81-2.81c.8-.78.8-2.07 0-2.86zM5.41 20L4 18.59l7.72-7.72 1.47 1.35L5.41 20z\"/>\n",
              "  </svg>\n",
              "      </button>\n",
              "      \n",
              "  <style>\n",
              "    .colab-df-container {\n",
              "      display:flex;\n",
              "      flex-wrap:wrap;\n",
              "      gap: 12px;\n",
              "    }\n",
              "\n",
              "    .colab-df-convert {\n",
              "      background-color: #E8F0FE;\n",
              "      border: none;\n",
              "      border-radius: 50%;\n",
              "      cursor: pointer;\n",
              "      display: none;\n",
              "      fill: #1967D2;\n",
              "      height: 32px;\n",
              "      padding: 0 0 0 0;\n",
              "      width: 32px;\n",
              "    }\n",
              "\n",
              "    .colab-df-convert:hover {\n",
              "      background-color: #E2EBFA;\n",
              "      box-shadow: 0px 1px 2px rgba(60, 64, 67, 0.3), 0px 1px 3px 1px rgba(60, 64, 67, 0.15);\n",
              "      fill: #174EA6;\n",
              "    }\n",
              "\n",
              "    [theme=dark] .colab-df-convert {\n",
              "      background-color: #3B4455;\n",
              "      fill: #D2E3FC;\n",
              "    }\n",
              "\n",
              "    [theme=dark] .colab-df-convert:hover {\n",
              "      background-color: #434B5C;\n",
              "      box-shadow: 0px 1px 3px 1px rgba(0, 0, 0, 0.15);\n",
              "      filter: drop-shadow(0px 1px 2px rgba(0, 0, 0, 0.3));\n",
              "      fill: #FFFFFF;\n",
              "    }\n",
              "  </style>\n",
              "\n",
              "      <script>\n",
              "        const buttonEl =\n",
              "          document.querySelector('#df-ec12e1e1-aacf-4eaa-984f-be73100e663b button.colab-df-convert');\n",
              "        buttonEl.style.display =\n",
              "          google.colab.kernel.accessAllowed ? 'block' : 'none';\n",
              "\n",
              "        async function convertToInteractive(key) {\n",
              "          const element = document.querySelector('#df-ec12e1e1-aacf-4eaa-984f-be73100e663b');\n",
              "          const dataTable =\n",
              "            await google.colab.kernel.invokeFunction('convertToInteractive',\n",
              "                                                     [key], {});\n",
              "          if (!dataTable) return;\n",
              "\n",
              "          const docLinkHtml = 'Like what you see? Visit the ' +\n",
              "            '<a target=\"_blank\" href=https://colab.research.google.com/notebooks/data_table.ipynb>data table notebook</a>'\n",
              "            + ' to learn more about interactive tables.';\n",
              "          element.innerHTML = '';\n",
              "          dataTable['output_type'] = 'display_data';\n",
              "          await google.colab.output.renderOutput(dataTable, element);\n",
              "          const docLink = document.createElement('div');\n",
              "          docLink.innerHTML = docLinkHtml;\n",
              "          element.appendChild(docLink);\n",
              "        }\n",
              "      </script>\n",
              "    </div>\n",
              "  </div>\n",
              "  "
            ]
          },
          "metadata": {},
          "execution_count": 5
        }
      ],
      "source": [
        "df.tail()"
      ]
    },
    {
      "cell_type": "code",
      "execution_count": null,
      "id": "7e2e6904",
      "metadata": {
        "id": "7e2e6904"
      },
      "outputs": [],
      "source": [
        "df[\"condition\"].value_counts()\n",
        "\"\"\"\n",
        "Note: 0 = no heart disease; 1= heart disease\n",
        "\n",
        "\"\"\";"
      ]
    },
    {
      "cell_type": "code",
      "execution_count": null,
      "id": "581b14dc",
      "metadata": {
        "colab": {
          "base_uri": "https://localhost:8080/",
          "height": 262
        },
        "id": "581b14dc",
        "outputId": "11f9fef1-803b-47e1-fb44-b6836c96b3ac"
      },
      "outputs": [
        {
          "data": {
            "image/png": "[encoded data removed]",
            "text/plain": [
              "<Figure size 432x288 with 1 Axes>"
            ]
          },
          "metadata": {
            "needs_background": "light"
          },
          "output_type": "display_data"
        }
      ],
      "source": [
        "df[\"condition\"].value_counts().plot(kind=\"bar\", color=[\"black\",\"red\"]);"
      ]
    },
    {
      "cell_type": "code",
      "execution_count": null,
      "id": "6357b84e",
      "metadata": {
        "colab": {
          "base_uri": "https://localhost:8080/"
        },
        "id": "6357b84e",
        "outputId": "22c06082-75bf-4355-922d-780d66eee0da"
      },
      "outputs": [
        {
          "name": "stdout",
          "output_type": "stream",
          "text": [
            "<class 'pandas.core.frame.DataFrame'>\n",
            "RangeIndex: 297 entries, 0 to 296\n",
            "Data columns (total 14 columns):\n",
            " #   Column     Non-Null Count  Dtype  \n",
            "---  ------     --------------  -----  \n",
            " 0   age        297 non-null    int64  \n",
            " 1   sex        297 non-null    int64  \n",
            " 2   cp         297 non-null    int64  \n",
            " 3   trestbps   297 non-null    int64  \n",
            " 4   chol       297 non-null    int64  \n",
            " 5   fbs        297 non-null    int64  \n",
            " 6   restecg    297 non-null    int64  \n",
            " 7   thalach    297 non-null    int64  \n",
            " 8   exang      297 non-null    int64  \n",
            " 9   oldpeak    297 non-null    float64\n",
            " 10  slope      297 non-null    int64  \n",
            " 11  ca         297 non-null    int64  \n",
            " 12  thal       297 non-null    int64  \n",
            " 13  condition  297 non-null    int64  \n",
            "dtypes: float64(1), int64(13)\n",
            "memory usage: 32.6 KB\n"
          ]
        }
      ],
      "source": [
        "df.info()"
      ]
    },
    {
      "cell_type": "code",
      "execution_count": null,
      "id": "bd6d5c4b",
      "metadata": {
        "colab": {
          "base_uri": "https://localhost:8080/"
        },
        "id": "bd6d5c4b",
        "outputId": "b6eefba9-a239-4b11-d001-b121e17ea97a"
      },
      "outputs": [
        {
          "data": {
            "text/plain": [
              "age          0\n",
              "sex          0\n",
              "cp           0\n",
              "trestbps     0\n",
              "chol         0\n",
              "fbs          0\n",
              "restecg      0\n",
              "thalach      0\n",
              "exang        0\n",
              "oldpeak      0\n",
              "slope        0\n",
              "ca           0\n",
              "thal         0\n",
              "condition    0\n",
              "dtype: int64"
            ]
          },
          "execution_count": 12,
          "metadata": {},
          "output_type": "execute_result"
        }
      ],
      "source": [
        "df.isna().sum()\n",
        "# no missing values"
      ]
    },
    {
      "cell_type": "code",
      "execution_count": null,
      "id": "10f00421",
      "metadata": {
        "colab": {
          "base_uri": "https://localhost:8080/",
          "height": 300
        },
        "id": "10f00421",
        "outputId": "75e22842-e048-49d6-cd08-a37ba3cb15b4"
      },
      "outputs": [
        {
          "data": {
            "text/html": [
              "\n",
              "  <div id=\"df-a5460b39-40a0-45c8-8661-650ed15c0eec\">\n",
              "    <div class=\"colab-df-container\">\n",
              "      <div>\n",
              "<style scoped>\n",
              "    .dataframe tbody tr th:only-of-type {\n",
              "        vertical-align: middle;\n",
              "    }\n",
              "\n",
              "    .dataframe tbody tr th {\n",
              "        vertical-align: top;\n",
              "    }\n",
              "\n",
              "    .dataframe thead th {\n",
              "        text-align: right;\n",
              "    }\n",
              "</style>\n",
              "<table border=\"1\" class=\"dataframe\">\n",
              "  <thead>\n",
              "    <tr style=\"text-align: right;\">\n",
              "      <th></th>\n",
              "      <th>age</th>\n",
              "      <th>sex</th>\n",
              "      <th>cp</th>\n",
              "      <th>trestbps</th>\n",
              "      <th>chol</th>\n",
              "      <th>fbs</th>\n",
              "      <th>restecg</th>\n",
              "      <th>thalach</th>\n",
              "      <th>exang</th>\n",
              "      <th>oldpeak</th>\n",
              "      <th>slope</th>\n",
              "      <th>ca</th>\n",
              "      <th>thal</th>\n",
              "      <th>condition</th>\n",
              "    </tr>\n",
              "  </thead>\n",
              "  <tbody>\n",
              "    <tr>\n",
              "      <th>count</th>\n",
              "      <td>297.000000</td>\n",
              "      <td>297.000000</td>\n",
              "      <td>297.000000</td>\n",
              "      <td>297.000000</td>\n",
              "      <td>297.000000</td>\n",
              "      <td>297.000000</td>\n",
              "      <td>297.000000</td>\n",
              "      <td>297.000000</td>\n",
              "      <td>297.000000</td>\n",
              "      <td>297.000000</td>\n",
              "      <td>297.000000</td>\n",
              "      <td>297.000000</td>\n",
              "      <td>297.000000</td>\n",
              "      <td>297.000000</td>\n",
              "    </tr>\n",
              "    <tr>\n",
              "      <th>mean</th>\n",
              "      <td>54.542088</td>\n",
              "      <td>0.676768</td>\n",
              "      <td>2.158249</td>\n",
              "      <td>131.693603</td>\n",
              "      <td>247.350168</td>\n",
              "      <td>0.144781</td>\n",
              "      <td>0.996633</td>\n",
              "      <td>149.599327</td>\n",
              "      <td>0.326599</td>\n",
              "      <td>1.055556</td>\n",
              "      <td>0.602694</td>\n",
              "      <td>0.676768</td>\n",
              "      <td>0.835017</td>\n",
              "      <td>0.461279</td>\n",
              "    </tr>\n",
              "    <tr>\n",
              "      <th>std</th>\n",
              "      <td>9.049736</td>\n",
              "      <td>0.468500</td>\n",
              "      <td>0.964859</td>\n",
              "      <td>17.762806</td>\n",
              "      <td>51.997583</td>\n",
              "      <td>0.352474</td>\n",
              "      <td>0.994914</td>\n",
              "      <td>22.941562</td>\n",
              "      <td>0.469761</td>\n",
              "      <td>1.166123</td>\n",
              "      <td>0.618187</td>\n",
              "      <td>0.938965</td>\n",
              "      <td>0.956690</td>\n",
              "      <td>0.499340</td>\n",
              "    </tr>\n",
              "    <tr>\n",
              "      <th>min</th>\n",
              "      <td>29.000000</td>\n",
              "      <td>0.000000</td>\n",
              "      <td>0.000000</td>\n",
              "      <td>94.000000</td>\n",
              "      <td>126.000000</td>\n",
              "      <td>0.000000</td>\n",
              "      <td>0.000000</td>\n",
              "      <td>71.000000</td>\n",
              "      <td>0.000000</td>\n",
              "      <td>0.000000</td>\n",
              "      <td>0.000000</td>\n",
              "      <td>0.000000</td>\n",
              "      <td>0.000000</td>\n",
              "      <td>0.000000</td>\n",
              "    </tr>\n",
              "    <tr>\n",
              "      <th>25%</th>\n",
              "      <td>48.000000</td>\n",
              "      <td>0.000000</td>\n",
              "      <td>2.000000</td>\n",
              "      <td>120.000000</td>\n",
              "      <td>211.000000</td>\n",
              "      <td>0.000000</td>\n",
              "      <td>0.000000</td>\n",
              "      <td>133.000000</td>\n",
              "      <td>0.000000</td>\n",
              "      <td>0.000000</td>\n",
              "      <td>0.000000</td>\n",
              "      <td>0.000000</td>\n",
              "      <td>0.000000</td>\n",
              "      <td>0.000000</td>\n",
              "    </tr>\n",
              "    <tr>\n",
              "      <th>50%</th>\n",
              "      <td>56.000000</td>\n",
              "      <td>1.000000</td>\n",
              "      <td>2.000000</td>\n",
              "      <td>130.000000</td>\n",
              "      <td>243.000000</td>\n",
              "      <td>0.000000</td>\n",
              "      <td>1.000000</td>\n",
              "      <td>153.000000</td>\n",
              "      <td>0.000000</td>\n",
              "      <td>0.800000</td>\n",
              "      <td>1.000000</td>\n",
              "      <td>0.000000</td>\n",
              "      <td>0.000000</td>\n",
              "      <td>0.000000</td>\n",
              "    </tr>\n",
              "    <tr>\n",
              "      <th>75%</th>\n",
              "      <td>61.000000</td>\n",
              "      <td>1.000000</td>\n",
              "      <td>3.000000</td>\n",
              "      <td>140.000000</td>\n",
              "      <td>276.000000</td>\n",
              "      <td>0.000000</td>\n",
              "      <td>2.000000</td>\n",
              "      <td>166.000000</td>\n",
              "      <td>1.000000</td>\n",
              "      <td>1.600000</td>\n",
              "      <td>1.000000</td>\n",
              "      <td>1.000000</td>\n",
              "      <td>2.000000</td>\n",
              "      <td>1.000000</td>\n",
              "    </tr>\n",
              "    <tr>\n",
              "      <th>max</th>\n",
              "      <td>77.000000</td>\n",
              "      <td>1.000000</td>\n",
              "      <td>3.000000</td>\n",
              "      <td>200.000000</td>\n",
              "      <td>564.000000</td>\n",
              "      <td>1.000000</td>\n",
              "      <td>2.000000</td>\n",
              "      <td>202.000000</td>\n",
              "      <td>1.000000</td>\n",
              "      <td>6.200000</td>\n",
              "      <td>2.000000</td>\n",
              "      <td>3.000000</td>\n",
              "      <td>2.000000</td>\n",
              "      <td>1.000000</td>\n",
              "    </tr>\n",
              "  </tbody>\n",
              "</table>\n",
              "</div>\n",
              "      <button class=\"colab-df-convert\" onclick=\"convertToInteractive('df-a5460b39-40a0-45c8-8661-650ed15c0eec')\"\n",
              "              title=\"Convert this dataframe to an interactive table.\"\n",
              "              style=\"display:none;\">\n",
              "        \n",
              "  <svg xmlns=\"http://www.w3.org/2000/svg\" height=\"24px\"viewBox=\"0 0 24 24\"\n",
              "       width=\"24px\">\n",
              "    <path d=\"M0 0h24v24H0V0z\" fill=\"none\"/>\n",
              "    <path d=\"M18.56 5.44l.94 2.06.94-2.06 2.06-.94-2.06-.94-.94-2.06-.94 2.06-2.06.94zm-11 1L8.5 8.5l.94-2.06 2.06-.94-2.06-.94L8.5 2.5l-.94 2.06-2.06.94zm10 10l.94 2.06.94-2.06 2.06-.94-2.06-.94-.94-2.06-.94 2.06-2.06.94z\"/><path d=\"M17.41 7.96l-1.37-1.37c-.4-.4-.92-.59-1.43-.59-.52 0-1.04.2-1.43.59L10.3 9.45l-7.72 7.72c-.78.78-.78 2.05 0 2.83L4 21.41c.39.39.9.59 1.41.59.51 0 1.02-.2 1.41-.59l7.78-7.78 2.81-2.81c.8-.78.8-2.07 0-2.86zM5.41 20L4 18.59l7.72-7.72 1.47 1.35L5.41 20z\"/>\n",
              "  </svg>\n",
              "      </button>\n",
              "      \n",
              "  <style>\n",
              "    .colab-df-container {\n",
              "      display:flex;\n",
              "      flex-wrap:wrap;\n",
              "      gap: 12px;\n",
              "    }\n",
              "\n",
              "    .colab-df-convert {\n",
              "      background-color: #E8F0FE;\n",
              "      border: none;\n",
              "      border-radius: 50%;\n",
              "      cursor: pointer;\n",
              "      display: none;\n",
              "      fill: #1967D2;\n",
              "      height: 32px;\n",
              "      padding: 0 0 0 0;\n",
              "      width: 32px;\n",
              "    }\n",
              "\n",
              "    .colab-df-convert:hover {\n",
              "      background-color: #E2EBFA;\n",
              "      box-shadow: 0px 1px 2px rgba(60, 64, 67, 0.3), 0px 1px 3px 1px rgba(60, 64, 67, 0.15);\n",
              "      fill: #174EA6;\n",
              "    }\n",
              "\n",
              "    [theme=dark] .colab-df-convert {\n",
              "      background-color: #3B4455;\n",
              "      fill: #D2E3FC;\n",
              "    }\n",
              "\n",
              "    [theme=dark] .colab-df-convert:hover {\n",
              "      background-color: #434B5C;\n",
              "      box-shadow: 0px 1px 3px 1px rgba(0, 0, 0, 0.15);\n",
              "      filter: drop-shadow(0px 1px 2px rgba(0, 0, 0, 0.3));\n",
              "      fill: #FFFFFF;\n",
              "    }\n",
              "  </style>\n",
              "\n",
              "      <script>\n",
              "        const buttonEl =\n",
              "          document.querySelector('#df-a5460b39-40a0-45c8-8661-650ed15c0eec button.colab-df-convert');\n",
              "        buttonEl.style.display =\n",
              "          google.colab.kernel.accessAllowed ? 'block' : 'none';\n",
              "\n",
              "        async function convertToInteractive(key) {\n",
              "          const element = document.querySelector('#df-a5460b39-40a0-45c8-8661-650ed15c0eec');\n",
              "          const dataTable =\n",
              "            await google.colab.kernel.invokeFunction('convertToInteractive',\n",
              "                                                     [key], {});\n",
              "          if (!dataTable) return;\n",
              "\n",
              "          const docLinkHtml = 'Like what you see? Visit the ' +\n",
              "            '<a target=\"_blank\" href=https://colab.research.google.com/notebooks/data_table.ipynb>data table notebook</a>'\n",
              "            + ' to learn more about interactive tables.';\n",
              "          element.innerHTML = '';\n",
              "          dataTable['output_type'] = 'display_data';\n",
              "          await google.colab.output.renderOutput(dataTable, element);\n",
              "          const docLink = document.createElement('div');\n",
              "          docLink.innerHTML = docLinkHtml;\n",
              "          element.appendChild(docLink);\n",
              "        }\n",
              "      </script>\n",
              "    </div>\n",
              "  </div>\n",
              "  "
            ],
            "text/plain": [
              "              age         sex          cp    trestbps        chol         fbs  \\\n",
              "count  297.000000  297.000000  297.000000  297.000000  297.000000  297.000000   \n",
              "mean    54.542088    0.676768    2.158249  131.693603  247.350168    0.144781   \n",
              "std      9.049736    0.468500    0.964859   17.762806   51.997583    0.352474   \n",
              "min     29.000000    0.000000    0.000000   94.000000  126.000000    0.000000   \n",
              "25%     48.000000    0.000000    2.000000  120.000000  211.000000    0.000000   \n",
              "50%     56.000000    1.000000    2.000000  130.000000  243.000000    0.000000   \n",
              "75%     61.000000    1.000000    3.000000  140.000000  276.000000    0.000000   \n",
              "max     77.000000    1.000000    3.000000  200.000000  564.000000    1.000000   \n",
              "\n",
              "          restecg     thalach       exang     oldpeak       slope          ca  \\\n",
              "count  297.000000  297.000000  297.000000  297.000000  297.000000  297.000000   \n",
              "mean     0.996633  149.599327    0.326599    1.055556    0.602694    0.676768   \n",
              "std      0.994914   22.941562    0.469761    1.166123    0.618187    0.938965   \n",
              "min      0.000000   71.000000    0.000000    0.000000    0.000000    0.000000   \n",
              "25%      0.000000  133.000000    0.000000    0.000000    0.000000    0.000000   \n",
              "50%      1.000000  153.000000    0.000000    0.800000    1.000000    0.000000   \n",
              "75%      2.000000  166.000000    1.000000    1.600000    1.000000    1.000000   \n",
              "max      2.000000  202.000000    1.000000    6.200000    2.000000    3.000000   \n",
              "\n",
              "             thal   condition  \n",
              "count  297.000000  297.000000  \n",
              "mean     0.835017    0.461279  \n",
              "std      0.956690    0.499340  \n",
              "min      0.000000    0.000000  \n",
              "25%      0.000000    0.000000  \n",
              "50%      0.000000    0.000000  \n",
              "75%      2.000000    1.000000  \n",
              "max      2.000000    1.000000  "
            ]
          },
          "execution_count": 13,
          "metadata": {},
          "output_type": "execute_result"
        }
      ],
      "source": [
        "df.describe()"
      ]
    },
    {
      "cell_type": "code",
      "execution_count": null,
      "id": "871d7fac",
      "metadata": {
        "colab": {
          "base_uri": "https://localhost:8080/"
        },
        "id": "871d7fac",
        "outputId": "e37e41cc-89b8-493c-922b-00b3d2fb786b"
      },
      "outputs": [
        {
          "data": {
            "text/plain": [
              "162    11\n",
              "163     9\n",
              "160     9\n",
              "152     8\n",
              "172     7\n",
              "       ..\n",
              "192     1\n",
              "202     1\n",
              "167     1\n",
              "97      1\n",
              "195     1\n",
              "Name: thalach, Length: 91, dtype: int64"
            ]
          },
          "execution_count": 14,
          "metadata": {},
          "output_type": "execute_result"
        }
      ],
      "source": [
        "df[\"thalach\"].value_counts()"
      ]
    },
    {
      "cell_type": "code",
      "execution_count": null,
      "id": "6be49054",
      "metadata": {
        "colab": {
          "base_uri": "https://localhost:8080/",
          "height": 489
        },
        "id": "6be49054",
        "outputId": "9961f050-91bc-4701-f972-c0f54ca6460f"
      },
      "outputs": [
        {
          "data": {
            "text/html": [
              "\n",
              "  <div id=\"df-47e0f07e-faaf-40e5-8003-2b0d198be65c\">\n",
              "    <div class=\"colab-df-container\">\n",
              "      <div>\n",
              "<style scoped>\n",
              "    .dataframe tbody tr th:only-of-type {\n",
              "        vertical-align: middle;\n",
              "    }\n",
              "\n",
              "    .dataframe tbody tr th {\n",
              "        vertical-align: top;\n",
              "    }\n",
              "\n",
              "    .dataframe thead th {\n",
              "        text-align: right;\n",
              "    }\n",
              "</style>\n",
              "<table border=\"1\" class=\"dataframe\">\n",
              "  <thead>\n",
              "    <tr style=\"text-align: right;\">\n",
              "      <th></th>\n",
              "      <th>age</th>\n",
              "      <th>sex</th>\n",
              "      <th>cp</th>\n",
              "      <th>trestbps</th>\n",
              "      <th>chol</th>\n",
              "      <th>fbs</th>\n",
              "      <th>restecg</th>\n",
              "      <th>thalach</th>\n",
              "      <th>exang</th>\n",
              "      <th>oldpeak</th>\n",
              "      <th>slope</th>\n",
              "      <th>ca</th>\n",
              "      <th>thal</th>\n",
              "      <th>condition</th>\n",
              "    </tr>\n",
              "  </thead>\n",
              "  <tbody>\n",
              "    <tr>\n",
              "      <th>age</th>\n",
              "      <td>1.000000</td>\n",
              "      <td>-0.092399</td>\n",
              "      <td>0.110471</td>\n",
              "      <td>0.290476</td>\n",
              "      <td>0.202644</td>\n",
              "      <td>0.132062</td>\n",
              "      <td>0.149917</td>\n",
              "      <td>-0.394563</td>\n",
              "      <td>0.096489</td>\n",
              "      <td>0.197123</td>\n",
              "      <td>0.159405</td>\n",
              "      <td>0.362210</td>\n",
              "      <td>0.120795</td>\n",
              "      <td>0.227075</td>\n",
              "    </tr>\n",
              "    <tr>\n",
              "      <th>sex</th>\n",
              "      <td>-0.092399</td>\n",
              "      <td>1.000000</td>\n",
              "      <td>0.008908</td>\n",
              "      <td>-0.066340</td>\n",
              "      <td>-0.198089</td>\n",
              "      <td>0.038850</td>\n",
              "      <td>0.033897</td>\n",
              "      <td>-0.060496</td>\n",
              "      <td>0.143581</td>\n",
              "      <td>0.106567</td>\n",
              "      <td>0.033345</td>\n",
              "      <td>0.091925</td>\n",
              "      <td>0.370556</td>\n",
              "      <td>0.278467</td>\n",
              "    </tr>\n",
              "    <tr>\n",
              "      <th>cp</th>\n",
              "      <td>0.110471</td>\n",
              "      <td>0.008908</td>\n",
              "      <td>1.000000</td>\n",
              "      <td>-0.036980</td>\n",
              "      <td>0.072088</td>\n",
              "      <td>-0.057663</td>\n",
              "      <td>0.063905</td>\n",
              "      <td>-0.339308</td>\n",
              "      <td>0.377525</td>\n",
              "      <td>0.203244</td>\n",
              "      <td>0.151079</td>\n",
              "      <td>0.235644</td>\n",
              "      <td>0.266275</td>\n",
              "      <td>0.408945</td>\n",
              "    </tr>\n",
              "    <tr>\n",
              "      <th>trestbps</th>\n",
              "      <td>0.290476</td>\n",
              "      <td>-0.066340</td>\n",
              "      <td>-0.036980</td>\n",
              "      <td>1.000000</td>\n",
              "      <td>0.131536</td>\n",
              "      <td>0.180860</td>\n",
              "      <td>0.149242</td>\n",
              "      <td>-0.049108</td>\n",
              "      <td>0.066691</td>\n",
              "      <td>0.191243</td>\n",
              "      <td>0.121172</td>\n",
              "      <td>0.097954</td>\n",
              "      <td>0.130612</td>\n",
              "      <td>0.153490</td>\n",
              "    </tr>\n",
              "    <tr>\n",
              "      <th>chol</th>\n",
              "      <td>0.202644</td>\n",
              "      <td>-0.198089</td>\n",
              "      <td>0.072088</td>\n",
              "      <td>0.131536</td>\n",
              "      <td>1.000000</td>\n",
              "      <td>0.012708</td>\n",
              "      <td>0.165046</td>\n",
              "      <td>-0.000075</td>\n",
              "      <td>0.059339</td>\n",
              "      <td>0.038596</td>\n",
              "      <td>-0.009215</td>\n",
              "      <td>0.115945</td>\n",
              "      <td>0.023441</td>\n",
              "      <td>0.080285</td>\n",
              "    </tr>\n",
              "    <tr>\n",
              "      <th>fbs</th>\n",
              "      <td>0.132062</td>\n",
              "      <td>0.038850</td>\n",
              "      <td>-0.057663</td>\n",
              "      <td>0.180860</td>\n",
              "      <td>0.012708</td>\n",
              "      <td>1.000000</td>\n",
              "      <td>0.068831</td>\n",
              "      <td>-0.007842</td>\n",
              "      <td>-0.000893</td>\n",
              "      <td>0.008311</td>\n",
              "      <td>0.047819</td>\n",
              "      <td>0.152086</td>\n",
              "      <td>0.051038</td>\n",
              "      <td>0.003167</td>\n",
              "    </tr>\n",
              "    <tr>\n",
              "      <th>restecg</th>\n",
              "      <td>0.149917</td>\n",
              "      <td>0.033897</td>\n",
              "      <td>0.063905</td>\n",
              "      <td>0.149242</td>\n",
              "      <td>0.165046</td>\n",
              "      <td>0.068831</td>\n",
              "      <td>1.000000</td>\n",
              "      <td>-0.072290</td>\n",
              "      <td>0.081874</td>\n",
              "      <td>0.113726</td>\n",
              "      <td>0.135141</td>\n",
              "      <td>0.129021</td>\n",
              "      <td>0.013612</td>\n",
              "      <td>0.166343</td>\n",
              "    </tr>\n",
              "    <tr>\n",
              "      <th>thalach</th>\n",
              "      <td>-0.394563</td>\n",
              "      <td>-0.060496</td>\n",
              "      <td>-0.339308</td>\n",
              "      <td>-0.049108</td>\n",
              "      <td>-0.000075</td>\n",
              "      <td>-0.007842</td>\n",
              "      <td>-0.072290</td>\n",
              "      <td>1.000000</td>\n",
              "      <td>-0.384368</td>\n",
              "      <td>-0.347640</td>\n",
              "      <td>-0.389307</td>\n",
              "      <td>-0.268727</td>\n",
              "      <td>-0.258386</td>\n",
              "      <td>-0.423817</td>\n",
              "    </tr>\n",
              "    <tr>\n",
              "      <th>exang</th>\n",
              "      <td>0.096489</td>\n",
              "      <td>0.143581</td>\n",
              "      <td>0.377525</td>\n",
              "      <td>0.066691</td>\n",
              "      <td>0.059339</td>\n",
              "      <td>-0.000893</td>\n",
              "      <td>0.081874</td>\n",
              "      <td>-0.384368</td>\n",
              "      <td>1.000000</td>\n",
              "      <td>0.289310</td>\n",
              "      <td>0.250572</td>\n",
              "      <td>0.148232</td>\n",
              "      <td>0.323268</td>\n",
              "      <td>0.421355</td>\n",
              "    </tr>\n",
              "    <tr>\n",
              "      <th>oldpeak</th>\n",
              "      <td>0.197123</td>\n",
              "      <td>0.106567</td>\n",
              "      <td>0.203244</td>\n",
              "      <td>0.191243</td>\n",
              "      <td>0.038596</td>\n",
              "      <td>0.008311</td>\n",
              "      <td>0.113726</td>\n",
              "      <td>-0.347640</td>\n",
              "      <td>0.289310</td>\n",
              "      <td>1.000000</td>\n",
              "      <td>0.579037</td>\n",
              "      <td>0.294452</td>\n",
              "      <td>0.336809</td>\n",
              "      <td>0.424052</td>\n",
              "    </tr>\n",
              "    <tr>\n",
              "      <th>slope</th>\n",
              "      <td>0.159405</td>\n",
              "      <td>0.033345</td>\n",
              "      <td>0.151079</td>\n",
              "      <td>0.121172</td>\n",
              "      <td>-0.009215</td>\n",
              "      <td>0.047819</td>\n",
              "      <td>0.135141</td>\n",
              "      <td>-0.389307</td>\n",
              "      <td>0.250572</td>\n",
              "      <td>0.579037</td>\n",
              "      <td>1.000000</td>\n",
              "      <td>0.109761</td>\n",
              "      <td>0.260096</td>\n",
              "      <td>0.333049</td>\n",
              "    </tr>\n",
              "    <tr>\n",
              "      <th>ca</th>\n",
              "      <td>0.362210</td>\n",
              "      <td>0.091925</td>\n",
              "      <td>0.235644</td>\n",
              "      <td>0.097954</td>\n",
              "      <td>0.115945</td>\n",
              "      <td>0.152086</td>\n",
              "      <td>0.129021</td>\n",
              "      <td>-0.268727</td>\n",
              "      <td>0.148232</td>\n",
              "      <td>0.294452</td>\n",
              "      <td>0.109761</td>\n",
              "      <td>1.000000</td>\n",
              "      <td>0.248825</td>\n",
              "      <td>0.463189</td>\n",
              "    </tr>\n",
              "    <tr>\n",
              "      <th>thal</th>\n",
              "      <td>0.120795</td>\n",
              "      <td>0.370556</td>\n",
              "      <td>0.266275</td>\n",
              "      <td>0.130612</td>\n",
              "      <td>0.023441</td>\n",
              "      <td>0.051038</td>\n",
              "      <td>0.013612</td>\n",
              "      <td>-0.258386</td>\n",
              "      <td>0.323268</td>\n",
              "      <td>0.336809</td>\n",
              "      <td>0.260096</td>\n",
              "      <td>0.248825</td>\n",
              "      <td>1.000000</td>\n",
              "      <td>0.520516</td>\n",
              "    </tr>\n",
              "    <tr>\n",
              "      <th>condition</th>\n",
              "      <td>0.227075</td>\n",
              "      <td>0.278467</td>\n",
              "      <td>0.408945</td>\n",
              "      <td>0.153490</td>\n",
              "      <td>0.080285</td>\n",
              "      <td>0.003167</td>\n",
              "      <td>0.166343</td>\n",
              "      <td>-0.423817</td>\n",
              "      <td>0.421355</td>\n",
              "      <td>0.424052</td>\n",
              "      <td>0.333049</td>\n",
              "      <td>0.463189</td>\n",
              "      <td>0.520516</td>\n",
              "      <td>1.000000</td>\n",
              "    </tr>\n",
              "  </tbody>\n",
              "</table>\n",
              "</div>\n",
              "      <button class=\"colab-df-convert\" onclick=\"convertToInteractive('df-47e0f07e-faaf-40e5-8003-2b0d198be65c')\"\n",
              "              title=\"Convert this dataframe to an interactive table.\"\n",
              "              style=\"display:none;\">\n",
              "        \n",
              "  <svg xmlns=\"http://www.w3.org/2000/svg\" height=\"24px\"viewBox=\"0 0 24 24\"\n",
              "       width=\"24px\">\n",
              "    <path d=\"M0 0h24v24H0V0z\" fill=\"none\"/>\n",
              "    <path d=\"M18.56 5.44l.94 2.06.94-2.06 2.06-.94-2.06-.94-.94-2.06-.94 2.06-2.06.94zm-11 1L8.5 8.5l.94-2.06 2.06-.94-2.06-.94L8.5 2.5l-.94 2.06-2.06.94zm10 10l.94 2.06.94-2.06 2.06-.94-2.06-.94-.94-2.06-.94 2.06-2.06.94z\"/><path d=\"M17.41 7.96l-1.37-1.37c-.4-.4-.92-.59-1.43-.59-.52 0-1.04.2-1.43.59L10.3 9.45l-7.72 7.72c-.78.78-.78 2.05 0 2.83L4 21.41c.39.39.9.59 1.41.59.51 0 1.02-.2 1.41-.59l7.78-7.78 2.81-2.81c.8-.78.8-2.07 0-2.86zM5.41 20L4 18.59l7.72-7.72 1.47 1.35L5.41 20z\"/>\n",
              "  </svg>\n",
              "      </button>\n",
              "      \n",
              "  <style>\n",
              "    .colab-df-container {\n",
              "      display:flex;\n",
              "      flex-wrap:wrap;\n",
              "      gap: 12px;\n",
              "    }\n",
              "\n",
              "    .colab-df-convert {\n",
              "      background-color: #E8F0FE;\n",
              "      border: none;\n",
              "      border-radius: 50%;\n",
              "      cursor: pointer;\n",
              "      display: none;\n",
              "      fill: #1967D2;\n",
              "      height: 32px;\n",
              "      padding: 0 0 0 0;\n",
              "      width: 32px;\n",
              "    }\n",
              "\n",
              "    .colab-df-convert:hover {\n",
              "      background-color: #E2EBFA;\n",
              "      box-shadow: 0px 1px 2px rgba(60, 64, 67, 0.3), 0px 1px 3px 1px rgba(60, 64, 67, 0.15);\n",
              "      fill: #174EA6;\n",
              "    }\n",
              "\n",
              "    [theme=dark] .colab-df-convert {\n",
              "      background-color: #3B4455;\n",
              "      fill: #D2E3FC;\n",
              "    }\n",
              "\n",
              "    [theme=dark] .colab-df-convert:hover {\n",
              "      background-color: #434B5C;\n",
              "      box-shadow: 0px 1px 3px 1px rgba(0, 0, 0, 0.15);\n",
              "      filter: drop-shadow(0px 1px 2px rgba(0, 0, 0, 0.3));\n",
              "      fill: #FFFFFF;\n",
              "    }\n",
              "  </style>\n",
              "\n",
              "      <script>\n",
              "        const buttonEl =\n",
              "          document.querySelector('#df-47e0f07e-faaf-40e5-8003-2b0d198be65c button.colab-df-convert');\n",
              "        buttonEl.style.display =\n",
              "          google.colab.kernel.accessAllowed ? 'block' : 'none';\n",
              "\n",
              "        async function convertToInteractive(key) {\n",
              "          const element = document.querySelector('#df-47e0f07e-faaf-40e5-8003-2b0d198be65c');\n",
              "          const dataTable =\n",
              "            await google.colab.kernel.invokeFunction('convertToInteractive',\n",
              "                                                     [key], {});\n",
              "          if (!dataTable) return;\n",
              "\n",
              "          const docLinkHtml = 'Like what you see? Visit the ' +\n",
              "            '<a target=\"_blank\" href=https://colab.research.google.com/notebooks/data_table.ipynb>data table notebook</a>'\n",
              "            + ' to learn more about interactive tables.';\n",
              "          element.innerHTML = '';\n",
              "          dataTable['output_type'] = 'display_data';\n",
              "          await google.colab.output.renderOutput(dataTable, element);\n",
              "          const docLink = document.createElement('div');\n",
              "          docLink.innerHTML = docLinkHtml;\n",
              "          element.appendChild(docLink);\n",
              "        }\n",
              "      </script>\n",
              "    </div>\n",
              "  </div>\n",
              "  "
            ],
            "text/plain": [
              "                age       sex        cp  trestbps      chol       fbs  \\\n",
              "age        1.000000 -0.092399  0.110471  0.290476  0.202644  0.132062   \n",
              "sex       -0.092399  1.000000  0.008908 -0.066340 -0.198089  0.038850   \n",
              "cp         0.110471  0.008908  1.000000 -0.036980  0.072088 -0.057663   \n",
              "trestbps   0.290476 -0.066340 -0.036980  1.000000  0.131536  0.180860   \n",
              "chol       0.202644 -0.198089  0.072088  0.131536  1.000000  0.012708   \n",
              "fbs        0.132062  0.038850 -0.057663  0.180860  0.012708  1.000000   \n",
              "restecg    0.149917  0.033897  0.063905  0.149242  0.165046  0.068831   \n",
              "thalach   -0.394563 -0.060496 -0.339308 -0.049108 -0.000075 -0.007842   \n",
              "exang      0.096489  0.143581  0.377525  0.066691  0.059339 -0.000893   \n",
              "oldpeak    0.197123  0.106567  0.203244  0.191243  0.038596  0.008311   \n",
              "slope      0.159405  0.033345  0.151079  0.121172 -0.009215  0.047819   \n",
              "ca         0.362210  0.091925  0.235644  0.097954  0.115945  0.152086   \n",
              "thal       0.120795  0.370556  0.266275  0.130612  0.023441  0.051038   \n",
              "condition  0.227075  0.278467  0.408945  0.153490  0.080285  0.003167   \n",
              "\n",
              "            restecg   thalach     exang   oldpeak     slope        ca  \\\n",
              "age        0.149917 -0.394563  0.096489  0.197123  0.159405  0.362210   \n",
              "sex        0.033897 -0.060496  0.143581  0.106567  0.033345  0.091925   \n",
              "cp         0.063905 -0.339308  0.377525  0.203244  0.151079  0.235644   \n",
              "trestbps   0.149242 -0.049108  0.066691  0.191243  0.121172  0.097954   \n",
              "chol       0.165046 -0.000075  0.059339  0.038596 -0.009215  0.115945   \n",
              "fbs        0.068831 -0.007842 -0.000893  0.008311  0.047819  0.152086   \n",
              "restecg    1.000000 -0.072290  0.081874  0.113726  0.135141  0.129021   \n",
              "thalach   -0.072290  1.000000 -0.384368 -0.347640 -0.389307 -0.268727   \n",
              "exang      0.081874 -0.384368  1.000000  0.289310  0.250572  0.148232   \n",
              "oldpeak    0.113726 -0.347640  0.289310  1.000000  0.579037  0.294452   \n",
              "slope      0.135141 -0.389307  0.250572  0.579037  1.000000  0.109761   \n",
              "ca         0.129021 -0.268727  0.148232  0.294452  0.109761  1.000000   \n",
              "thal       0.013612 -0.258386  0.323268  0.336809  0.260096  0.248825   \n",
              "condition  0.166343 -0.423817  0.421355  0.424052  0.333049  0.463189   \n",
              "\n",
              "               thal  condition  \n",
              "age        0.120795   0.227075  \n",
              "sex        0.370556   0.278467  \n",
              "cp         0.266275   0.408945  \n",
              "trestbps   0.130612   0.153490  \n",
              "chol       0.023441   0.080285  \n",
              "fbs        0.051038   0.003167  \n",
              "restecg    0.013612   0.166343  \n",
              "thalach   -0.258386  -0.423817  \n",
              "exang      0.323268   0.421355  \n",
              "oldpeak    0.336809   0.424052  \n",
              "slope      0.260096   0.333049  \n",
              "ca         0.248825   0.463189  \n",
              "thal       1.000000   0.520516  \n",
              "condition  0.520516   1.000000  "
            ]
          },
          "execution_count": 15,
          "metadata": {},
          "output_type": "execute_result"
        }
      ],
      "source": [
        "df.corr()"
      ]
    },
    {
      "cell_type": "code",
      "execution_count": null,
      "id": "e2930c86",
      "metadata": {
        "colab": {
          "base_uri": "https://localhost:8080/",
          "height": 596
        },
        "id": "e2930c86",
        "outputId": "00c98171-28b6-4759-8519-d21701567aeb"
      },
      "outputs": [
        {
          "data": {
            "image/png": "[encoded data removed]",
            "text/plain": [
              "<Figure size 1080x720 with 2 Axes>"
            ]
          },
          "metadata": {
            "needs_background": "light"
          },
          "output_type": "display_data"
        }
      ],
      "source": [
        "# Correlation matrix inside heatmap\n",
        "\n",
        "corr_matrix = df.corr()\n",
        "fig, ax = plt.subplots(figsize = (15,10))\n",
        "ax = sns.heatmap(corr_matrix,\n",
        "                 annot=True,\n",
        "                 fmt =\".2f\",\n",
        "                 cmap = \"YlGnBu\")\n",
        "\n",
        "# Notes\n",
        "\"\"\"\n",
        "Greatest positive corrlation w/ heart disease: cp, thalach, slop\n",
        "Greastest negative correlation w/ heart disease: exang, oldpeak, ca\n",
        "\"\"\";"
      ]
    },
    {
      "cell_type": "code",
      "execution_count": null,
      "id": "5c9b47bd",
      "metadata": {
        "colab": {
          "base_uri": "https://localhost:8080/",
          "height": 513
        },
        "id": "5c9b47bd",
        "outputId": "c87b15de-ed27-47a1-a15c-12ac7ce8759f"
      },
      "outputs": [
        {
          "data": {
            "image/png": "[encoded data removed]",
            "text/plain": [
              "<Figure size 864x576 with 1 Axes>"
            ]
          },
          "metadata": {
            "needs_background": "light"
          },
          "output_type": "display_data"
        }
      ],
      "source": [
        "# Create a plot of crosstab\n",
        "pd.crosstab(df.condition, df.sex).plot(kind=\"bar\",\n",
        "                                    figsize=(12, 8),\n",
        "                                    color=[\"red\", \"black\"])\n",
        "\n",
        "plt.title(\"Heart Disease Frequency for Sex\")\n",
        "plt.xlabel(\"0 = No Diesease, 1 = Disease\")\n",
        "plt.ylabel(\"Amount\")\n",
        "plt.legend([\"Female\", \"Male\"]);\n",
        "plt.xticks(rotation=0);\n",
        "\n",
        "# Notes\n",
        "\n",
        "\"\"\"\n",
        "Data is biased to have more men w/ heart disaese vs no heart diesase than women\n",
        "\"\"\";"
      ]
    },
    {
      "cell_type": "code",
      "execution_count": null,
      "id": "a0cd752e",
      "metadata": {
        "colab": {
          "base_uri": "https://localhost:8080/",
          "height": 513
        },
        "id": "a0cd752e",
        "outputId": "6142b5dd-f357-42a7-9eab-2ab6902c89a3"
      },
      "outputs": [
        {
          "data": {
            "image/png": "[encoded data removed]",
            "text/plain": [
              "<Figure size 864x576 with 1 Axes>"
            ]
          },
          "metadata": {
            "needs_background": "light"
          },
          "output_type": "display_data"
        }
      ],
      "source": [
        "# Age and Max Heart Rate\n",
        "\n",
        "\n",
        "plt.figure(figsize=(12, 8))\n",
        "\n",
        "# Scatter with postivie examples\n",
        "plt.scatter(df.age[df.condition==1],\n",
        "            df.thalach[df.condition==1],\n",
        "            c=\"black\")\n",
        "\n",
        "# Scatter with negative examples\n",
        "plt.scatter(df.age[df.condition==0],\n",
        "            df.thalach[df.condition==0],\n",
        "            c=\"red\")\n",
        "\n",
        "# Add some helpful info\n",
        "plt.title(\"Heart Disease as a function of Age and Max Heart Rate\")\n",
        "plt.xlabel(\"Age\")\n",
        "plt.ylabel(\"Max Heart Rate\")\n",
        "plt.legend([\"Heart Disease\", \"No Heart Disease\"])\n",
        "\n",
        "# Notes\n",
        "\"\"\"\n",
        "Results appear similar for heart disease/no heart disase.\n",
        "Max heart rate decerases with age for both situaitons.\n",
        "\"\"\";"
      ]
    },
    {
      "cell_type": "code",
      "execution_count": null,
      "id": "f0575f92",
      "metadata": {
        "colab": {
          "base_uri": "https://localhost:8080/",
          "height": 513
        },
        "id": "f0575f92",
        "outputId": "c7a58453-1e0c-4057-9993-6bef9cdea77c"
      },
      "outputs": [
        {
          "data": {
            "image/png": "[encoded data removed]",
            "text/plain": [
              "<Figure size 864x576 with 1 Axes>"
            ]
          },
          "metadata": {
            "needs_background": "light"
          },
          "output_type": "display_data"
        }
      ],
      "source": [
        "# Heart disease as a function of chest pain\n",
        "\n",
        "pd.crosstab(df.cp, df.condition).plot(kind=\"bar\",\n",
        "                                   figsize=(12, 8),\n",
        "                                   color=[\"black\", \"red\"])\n",
        "\n",
        "# Add some communication\n",
        "plt.title(\"Heart Disease Occurrance vs Chest Pain Type\")\n",
        "plt.xlabel(\"Chest Pain Type\")\n",
        "plt.ylabel(\"Amount\")\n",
        "plt.legend([\"No Heart Disease\", \"Heart Disease\"])\n",
        "plt.xticks(rotation=0);\n",
        "\n",
        "# Notes\n",
        "\"\"\"\n",
        "Greater chest pains are associated with heart disease\n",
        "\"\"\";"
      ]
    },
    {
      "cell_type": "code",
      "execution_count": null,
      "id": "0e6b5e91",
      "metadata": {
        "colab": {
          "base_uri": "https://localhost:8080/",
          "height": 407
        },
        "id": "0e6b5e91",
        "outputId": "f3da1363-9773-4903-833f-03572837c920"
      },
      "outputs": [
        {
          "data": {
            "image/png": "[encoded data removed]",
            "text/plain": [
              "<Figure size 1440x432 with 1 Axes>"
            ]
          },
          "metadata": {
            "needs_background": "light"
          },
          "output_type": "display_data"
        }
      ],
      "source": [
        "# Heart disease frequency with age\n",
        "pd.crosstab(df.age,df.condition).plot(kind=\"bar\",\n",
        "                                      figsize=(20,6),\n",
        "                                      color=[\"black\", \"red\"])\n",
        "plt.title('Heart Disease Frequency with Age')\n",
        "plt.xlabel('Age')\n",
        "plt.ylabel('Frequency')\n",
        "plt.legend([\"No Heart Disease\", \"Heart Disease\"])\n",
        "plt.show()"
      ]
    },
    {
      "cell_type": "markdown",
      "id": "e4583a04",
      "metadata": {
        "id": "e4583a04"
      },
      "source": [
        "## 5 Modeling Data"
      ]
    },
    {
      "cell_type": "markdown",
      "source": [
        "### Normalizing the data"
      ],
      "metadata": {
        "id": "QQNd5HQnA2Mq"
      },
      "id": "QQNd5HQnA2Mq"
    },
    {
      "cell_type": "code",
      "source": [
        "# Normalize values to be between 0 and 1\n",
        "\n",
        "df[\"age\"] = df[\"age\"]/77\n",
        "df[\"cp\"] = df[\"cp\"]/3\n",
        "df[\"trestbps\"] = df[\"trestbps\"]/200\n",
        "df[\"chol\"] = df[\"chol\"]/564\n",
        "df[\"restecg\"] = df[\"restecg\"]/2\n",
        "df[\"thalach\"] = df[\"thalach\"]/202\n",
        "df[\"oldpeak\"] = df[\"oldpeak\"]/6.2\n",
        "df[\"slope\"] = df[\"slope\"]/2\n",
        "df[\"ca\"] = df[\"ca\"]/3\n",
        "df[\"thal\"] = df[\"thal\"]/2"
      ],
      "metadata": {
        "id": "m5Uh5z_gA6Gt"
      },
      "id": "m5Uh5z_gA6Gt",
      "execution_count": 6,
      "outputs": []
    },
    {
      "cell_type": "code",
      "execution_count": 7,
      "id": "810b6da0",
      "metadata": {
        "id": "810b6da0"
      },
      "outputs": [],
      "source": [
        "# Splitting data into X and y\n",
        "\n",
        "X = df.drop(\"condition\", axis=1)\n",
        "y = df[\"condition\"]"
      ]
    },
    {
      "cell_type": "code",
      "execution_count": 8,
      "id": "461806da",
      "metadata": {
        "colab": {
          "base_uri": "https://localhost:8080/",
          "height": 424
        },
        "id": "461806da",
        "outputId": "9feee9a4-d414-4812-c2a1-1e321bcc31b4"
      },
      "outputs": [
        {
          "output_type": "execute_result",
          "data": {
            "text/plain": [
              "          age  sex   cp  trestbps      chol  fbs  restecg   thalach  exang  \\\n",
              "0    0.896104    1  0.0      0.80  0.414894    1      1.0  0.648515      0   \n",
              "1    0.896104    0  0.0      0.70  0.423759    0      0.0  0.747525      0   \n",
              "2    0.857143    0  0.0      0.75  0.400709    0      0.0  0.564356      0   \n",
              "3    0.844156    1  0.0      0.69  0.500000    1      1.0  0.861386      0   \n",
              "4    0.831169    1  0.0      0.55  0.374113    0      1.0  0.712871      1   \n",
              "..        ...  ...  ...       ...       ...  ...      ...       ...    ...   \n",
              "292  0.519481    1  1.0      0.76  0.395390    0      0.0  0.896040      0   \n",
              "293  0.506494    1  1.0      0.59  0.388298    0      0.0  0.693069      0   \n",
              "294  0.454545    1  1.0      0.60  0.351064    0      0.0  0.643564      1   \n",
              "295  0.454545    0  1.0      0.69  0.324468    0      0.0  0.900990      0   \n",
              "296  0.454545    1  1.0      0.63  0.500000    0      1.0  0.772277      1   \n",
              "\n",
              "      oldpeak  slope        ca  thal  \n",
              "0    0.016129    0.5  0.333333   0.0  \n",
              "1    0.290323    0.0  0.666667   0.0  \n",
              "2    0.419355    1.0  0.000000   0.0  \n",
              "3    0.225806    0.5  0.333333   0.0  \n",
              "4    0.290323    0.5  0.000000   0.0  \n",
              "..        ...    ...       ...   ...  \n",
              "292  0.000000    0.0  0.000000   1.0  \n",
              "293  0.193548    0.5  0.000000   1.0  \n",
              "294  0.258065    0.5  0.000000   1.0  \n",
              "295  0.225806    0.0  0.000000   0.0  \n",
              "296  0.000000    0.0  0.000000   1.0  \n",
              "\n",
              "[297 rows x 13 columns]"
            ],
            "text/html": [
              "\n",
              "  <div id=\"df-f7eeb9dc-99e4-43f7-9711-aff22d100260\">\n",
              "    <div class=\"colab-df-container\">\n",
              "      <div>\n",
              "<style scoped>\n",
              "    .dataframe tbody tr th:only-of-type {\n",
              "        vertical-align: middle;\n",
              "    }\n",
              "\n",
              "    .dataframe tbody tr th {\n",
              "        vertical-align: top;\n",
              "    }\n",
              "\n",
              "    .dataframe thead th {\n",
              "        text-align: right;\n",
              "    }\n",
              "</style>\n",
              "<table border=\"1\" class=\"dataframe\">\n",
              "  <thead>\n",
              "    <tr style=\"text-align: right;\">\n",
              "      <th></th>\n",
              "      <th>age</th>\n",
              "      <th>sex</th>\n",
              "      <th>cp</th>\n",
              "      <th>trestbps</th>\n",
              "      <th>chol</th>\n",
              "      <th>fbs</th>\n",
              "      <th>restecg</th>\n",
              "      <th>thalach</th>\n",
              "      <th>exang</th>\n",
              "      <th>oldpeak</th>\n",
              "      <th>slope</th>\n",
              "      <th>ca</th>\n",
              "      <th>thal</th>\n",
              "    </tr>\n",
              "  </thead>\n",
              "  <tbody>\n",
              "    <tr>\n",
              "      <th>0</th>\n",
              "      <td>0.896104</td>\n",
              "      <td>1</td>\n",
              "      <td>0.0</td>\n",
              "      <td>0.80</td>\n",
              "      <td>0.414894</td>\n",
              "      <td>1</td>\n",
              "      <td>1.0</td>\n",
              "      <td>0.648515</td>\n",
              "      <td>0</td>\n",
              "      <td>0.016129</td>\n",
              "      <td>0.5</td>\n",
              "      <td>0.333333</td>\n",
              "      <td>0.0</td>\n",
              "    </tr>\n",
              "    <tr>\n",
              "      <th>1</th>\n",
              "      <td>0.896104</td>\n",
              "      <td>0</td>\n",
              "      <td>0.0</td>\n",
              "      <td>0.70</td>\n",
              "      <td>0.423759</td>\n",
              "      <td>0</td>\n",
              "      <td>0.0</td>\n",
              "      <td>0.747525</td>\n",
              "      <td>0</td>\n",
              "      <td>0.290323</td>\n",
              "      <td>0.0</td>\n",
              "      <td>0.666667</td>\n",
              "      <td>0.0</td>\n",
              "    </tr>\n",
              "    <tr>\n",
              "      <th>2</th>\n",
              "      <td>0.857143</td>\n",
              "      <td>0</td>\n",
              "      <td>0.0</td>\n",
              "      <td>0.75</td>\n",
              "      <td>0.400709</td>\n",
              "      <td>0</td>\n",
              "      <td>0.0</td>\n",
              "      <td>0.564356</td>\n",
              "      <td>0</td>\n",
              "      <td>0.419355</td>\n",
              "      <td>1.0</td>\n",
              "      <td>0.000000</td>\n",
              "      <td>0.0</td>\n",
              "    </tr>\n",
              "    <tr>\n",
              "      <th>3</th>\n",
              "      <td>0.844156</td>\n",
              "      <td>1</td>\n",
              "      <td>0.0</td>\n",
              "      <td>0.69</td>\n",
              "      <td>0.500000</td>\n",
              "      <td>1</td>\n",
              "      <td>1.0</td>\n",
              "      <td>0.861386</td>\n",
              "      <td>0</td>\n",
              "      <td>0.225806</td>\n",
              "      <td>0.5</td>\n",
              "      <td>0.333333</td>\n",
              "      <td>0.0</td>\n",
              "    </tr>\n",
              "    <tr>\n",
              "      <th>4</th>\n",
              "      <td>0.831169</td>\n",
              "      <td>1</td>\n",
              "      <td>0.0</td>\n",
              "      <td>0.55</td>\n",
              "      <td>0.374113</td>\n",
              "      <td>0</td>\n",
              "      <td>1.0</td>\n",
              "      <td>0.712871</td>\n",
              "      <td>1</td>\n",
              "      <td>0.290323</td>\n",
              "      <td>0.5</td>\n",
              "      <td>0.000000</td>\n",
              "      <td>0.0</td>\n",
              "    </tr>\n",
              "    <tr>\n",
              "      <th>...</th>\n",
              "      <td>...</td>\n",
              "      <td>...</td>\n",
              "      <td>...</td>\n",
              "      <td>...</td>\n",
              "      <td>...</td>\n",
              "      <td>...</td>\n",
              "      <td>...</td>\n",
              "      <td>...</td>\n",
              "      <td>...</td>\n",
              "      <td>...</td>\n",
              "      <td>...</td>\n",
              "      <td>...</td>\n",
              "      <td>...</td>\n",
              "    </tr>\n",
              "    <tr>\n",
              "      <th>292</th>\n",
              "      <td>0.519481</td>\n",
              "      <td>1</td>\n",
              "      <td>1.0</td>\n",
              "      <td>0.76</td>\n",
              "      <td>0.395390</td>\n",
              "      <td>0</td>\n",
              "      <td>0.0</td>\n",
              "      <td>0.896040</td>\n",
              "      <td>0</td>\n",
              "      <td>0.000000</td>\n",
              "      <td>0.0</td>\n",
              "      <td>0.000000</td>\n",
              "      <td>1.0</td>\n",
              "    </tr>\n",
              "    <tr>\n",
              "      <th>293</th>\n",
              "      <td>0.506494</td>\n",
              "      <td>1</td>\n",
              "      <td>1.0</td>\n",
              "      <td>0.59</td>\n",
              "      <td>0.388298</td>\n",
              "      <td>0</td>\n",
              "      <td>0.0</td>\n",
              "      <td>0.693069</td>\n",
              "      <td>0</td>\n",
              "      <td>0.193548</td>\n",
              "      <td>0.5</td>\n",
              "      <td>0.000000</td>\n",
              "      <td>1.0</td>\n",
              "    </tr>\n",
              "    <tr>\n",
              "      <th>294</th>\n",
              "      <td>0.454545</td>\n",
              "      <td>1</td>\n",
              "      <td>1.0</td>\n",
              "      <td>0.60</td>\n",
              "      <td>0.351064</td>\n",
              "      <td>0</td>\n",
              "      <td>0.0</td>\n",
              "      <td>0.643564</td>\n",
              "      <td>1</td>\n",
              "      <td>0.258065</td>\n",
              "      <td>0.5</td>\n",
              "      <td>0.000000</td>\n",
              "      <td>1.0</td>\n",
              "    </tr>\n",
              "    <tr>\n",
              "      <th>295</th>\n",
              "      <td>0.454545</td>\n",
              "      <td>0</td>\n",
              "      <td>1.0</td>\n",
              "      <td>0.69</td>\n",
              "      <td>0.324468</td>\n",
              "      <td>0</td>\n",
              "      <td>0.0</td>\n",
              "      <td>0.900990</td>\n",
              "      <td>0</td>\n",
              "      <td>0.225806</td>\n",
              "      <td>0.0</td>\n",
              "      <td>0.000000</td>\n",
              "      <td>0.0</td>\n",
              "    </tr>\n",
              "    <tr>\n",
              "      <th>296</th>\n",
              "      <td>0.454545</td>\n",
              "      <td>1</td>\n",
              "      <td>1.0</td>\n",
              "      <td>0.63</td>\n",
              "      <td>0.500000</td>\n",
              "      <td>0</td>\n",
              "      <td>1.0</td>\n",
              "      <td>0.772277</td>\n",
              "      <td>1</td>\n",
              "      <td>0.000000</td>\n",
              "      <td>0.0</td>\n",
              "      <td>0.000000</td>\n",
              "      <td>1.0</td>\n",
              "    </tr>\n",
              "  </tbody>\n",
              "</table>\n",
              "<p>297 rows × 13 columns</p>\n",
              "</div>\n",
              "      <button class=\"colab-df-convert\" onclick=\"convertToInteractive('df-f7eeb9dc-99e4-43f7-9711-aff22d100260')\"\n",
              "              title=\"Convert this dataframe to an interactive table.\"\n",
              "              style=\"display:none;\">\n",
              "        \n",
              "  <svg xmlns=\"http://www.w3.org/2000/svg\" height=\"24px\"viewBox=\"0 0 24 24\"\n",
              "       width=\"24px\">\n",
              "    <path d=\"M0 0h24v24H0V0z\" fill=\"none\"/>\n",
              "    <path d=\"M18.56 5.44l.94 2.06.94-2.06 2.06-.94-2.06-.94-.94-2.06-.94 2.06-2.06.94zm-11 1L8.5 8.5l.94-2.06 2.06-.94-2.06-.94L8.5 2.5l-.94 2.06-2.06.94zm10 10l.94 2.06.94-2.06 2.06-.94-2.06-.94-.94-2.06-.94 2.06-2.06.94z\"/><path d=\"M17.41 7.96l-1.37-1.37c-.4-.4-.92-.59-1.43-.59-.52 0-1.04.2-1.43.59L10.3 9.45l-7.72 7.72c-.78.78-.78 2.05 0 2.83L4 21.41c.39.39.9.59 1.41.59.51 0 1.02-.2 1.41-.59l7.78-7.78 2.81-2.81c.8-.78.8-2.07 0-2.86zM5.41 20L4 18.59l7.72-7.72 1.47 1.35L5.41 20z\"/>\n",
              "  </svg>\n",
              "      </button>\n",
              "      \n",
              "  <style>\n",
              "    .colab-df-container {\n",
              "      display:flex;\n",
              "      flex-wrap:wrap;\n",
              "      gap: 12px;\n",
              "    }\n",
              "\n",
              "    .colab-df-convert {\n",
              "      background-color: #E8F0FE;\n",
              "      border: none;\n",
              "      border-radius: 50%;\n",
              "      cursor: pointer;\n",
              "      display: none;\n",
              "      fill: #1967D2;\n",
              "      height: 32px;\n",
              "      padding: 0 0 0 0;\n",
              "      width: 32px;\n",
              "    }\n",
              "\n",
              "    .colab-df-convert:hover {\n",
              "      background-color: #E2EBFA;\n",
              "      box-shadow: 0px 1px 2px rgba(60, 64, 67, 0.3), 0px 1px 3px 1px rgba(60, 64, 67, 0.15);\n",
              "      fill: #174EA6;\n",
              "    }\n",
              "\n",
              "    [theme=dark] .colab-df-convert {\n",
              "      background-color: #3B4455;\n",
              "      fill: #D2E3FC;\n",
              "    }\n",
              "\n",
              "    [theme=dark] .colab-df-convert:hover {\n",
              "      background-color: #434B5C;\n",
              "      box-shadow: 0px 1px 3px 1px rgba(0, 0, 0, 0.15);\n",
              "      filter: drop-shadow(0px 1px 2px rgba(0, 0, 0, 0.3));\n",
              "      fill: #FFFFFF;\n",
              "    }\n",
              "  </style>\n",
              "\n",
              "      <script>\n",
              "        const buttonEl =\n",
              "          document.querySelector('#df-f7eeb9dc-99e4-43f7-9711-aff22d100260 button.colab-df-convert');\n",
              "        buttonEl.style.display =\n",
              "          google.colab.kernel.accessAllowed ? 'block' : 'none';\n",
              "\n",
              "        async function convertToInteractive(key) {\n",
              "          const element = document.querySelector('#df-f7eeb9dc-99e4-43f7-9711-aff22d100260');\n",
              "          const dataTable =\n",
              "            await google.colab.kernel.invokeFunction('convertToInteractive',\n",
              "                                                     [key], {});\n",
              "          if (!dataTable) return;\n",
              "\n",
              "          const docLinkHtml = 'Like what you see? Visit the ' +\n",
              "            '<a target=\"_blank\" href=https://colab.research.google.com/notebooks/data_table.ipynb>data table notebook</a>'\n",
              "            + ' to learn more about interactive tables.';\n",
              "          element.innerHTML = '';\n",
              "          dataTable['output_type'] = 'display_data';\n",
              "          await google.colab.output.renderOutput(dataTable, element);\n",
              "          const docLink = document.createElement('div');\n",
              "          docLink.innerHTML = docLinkHtml;\n",
              "          element.appendChild(docLink);\n",
              "        }\n",
              "      </script>\n",
              "    </div>\n",
              "  </div>\n",
              "  "
            ]
          },
          "metadata": {},
          "execution_count": 8
        }
      ],
      "source": [
        "X"
      ]
    },
    {
      "cell_type": "code",
      "execution_count": 9,
      "id": "25ed1ade",
      "metadata": {
        "colab": {
          "base_uri": "https://localhost:8080/"
        },
        "id": "25ed1ade",
        "outputId": "6b789579-8f2c-4276-b311-c9696dfbfa30"
      },
      "outputs": [
        {
          "output_type": "execute_result",
          "data": {
            "text/plain": [
              "0      0\n",
              "1      0\n",
              "2      0\n",
              "3      1\n",
              "4      0\n",
              "      ..\n",
              "292    1\n",
              "293    1\n",
              "294    1\n",
              "295    0\n",
              "296    1\n",
              "Name: condition, Length: 297, dtype: int64"
            ]
          },
          "metadata": {},
          "execution_count": 9
        }
      ],
      "source": [
        "y"
      ]
    },
    {
      "cell_type": "code",
      "execution_count": 10,
      "id": "732e24e1",
      "metadata": {
        "id": "732e24e1"
      },
      "outputs": [],
      "source": [
        "# Split data into train and test sets\n",
        "np.random.seed(1)\n",
        "\n",
        "#Splits\n",
        "\n",
        "X_train, X_test, y_train, y_test = train_test_split(X,\n",
        "                                                    y,\n",
        "                                                    test_size = 0.2)"
      ]
    },
    {
      "cell_type": "code",
      "execution_count": 11,
      "id": "bd7ab5dd",
      "metadata": {
        "colab": {
          "base_uri": "https://localhost:8080/",
          "height": 424
        },
        "id": "bd7ab5dd",
        "outputId": "a3f576ff-108e-49b8-d339-9d3bae969510"
      },
      "outputs": [
        {
          "output_type": "execute_result",
          "data": {
            "text/plain": [
              "          age  sex        cp  trestbps      chol  fbs  restecg   thalach  \\\n",
              "159  0.883117    1  1.000000     0.720  0.342199    1      0.0  0.698020   \n",
              "107  0.701299    1  0.666667     0.625  0.484043    0      1.0  0.752475   \n",
              "219  0.753247    0  1.000000     0.850  0.398936    1      1.0  0.722772   \n",
              "217  0.753247    1  1.000000     0.730  0.386525    0      0.0  0.519802   \n",
              "39   0.727273    1  0.333333     0.650  0.391844    0      1.0  0.806931   \n",
              "..        ...  ...       ...       ...       ...  ...      ...       ...   \n",
              "203  0.779221    1  1.000000     0.585  0.407801    1      0.0  0.792079   \n",
              "255  0.675325    1  1.000000     0.640  0.452128    0      0.0  0.797030   \n",
              "72   0.987013    0  0.666667     0.700  0.349291    0      0.5  0.574257   \n",
              "235  0.727273    1  1.000000     0.650  0.501773    1      1.0  0.509901   \n",
              "37   0.727273    0  0.333333     0.700  0.521277    0      1.0  0.757426   \n",
              "\n",
              "     exang   oldpeak  slope        ca  thal  \n",
              "159      0  0.548387    0.5  0.666667   1.0  \n",
              "107      0  0.080645    1.0  0.333333   0.0  \n",
              "219      1  0.451613    0.5  0.666667   0.5  \n",
              "217      0  0.322581    0.5  0.333333   1.0  \n",
              "39       0  0.000000    0.0  0.000000   1.0  \n",
              "..     ...       ...    ...       ...   ...  \n",
              "203      1  0.225806    0.0  0.666667   1.0  \n",
              "255      1  0.000000    0.0  0.333333   1.0  \n",
              "72       0  0.177419    0.5  0.000000   0.0  \n",
              "235      1  0.258065    1.0  0.000000   1.0  \n",
              "37       0  0.209677    0.5  0.000000   0.0  \n",
              "\n",
              "[237 rows x 13 columns]"
            ],
            "text/html": [
              "\n",
              "  <div id=\"df-45484dae-4586-4699-9ad2-312154c08ebf\">\n",
              "    <div class=\"colab-df-container\">\n",
              "      <div>\n",
              "<style scoped>\n",
              "    .dataframe tbody tr th:only-of-type {\n",
              "        vertical-align: middle;\n",
              "    }\n",
              "\n",
              "    .dataframe tbody tr th {\n",
              "        vertical-align: top;\n",
              "    }\n",
              "\n",
              "    .dataframe thead th {\n",
              "        text-align: right;\n",
              "    }\n",
              "</style>\n",
              "<table border=\"1\" class=\"dataframe\">\n",
              "  <thead>\n",
              "    <tr style=\"text-align: right;\">\n",
              "      <th></th>\n",
              "      <th>age</th>\n",
              "      <th>sex</th>\n",
              "      <th>cp</th>\n",
              "      <th>trestbps</th>\n",
              "      <th>chol</th>\n",
              "      <th>fbs</th>\n",
              "      <th>restecg</th>\n",
              "      <th>thalach</th>\n",
              "      <th>exang</th>\n",
              "      <th>oldpeak</th>\n",
              "      <th>slope</th>\n",
              "      <th>ca</th>\n",
              "      <th>thal</th>\n",
              "    </tr>\n",
              "  </thead>\n",
              "  <tbody>\n",
              "    <tr>\n",
              "      <th>159</th>\n",
              "      <td>0.883117</td>\n",
              "      <td>1</td>\n",
              "      <td>1.000000</td>\n",
              "      <td>0.720</td>\n",
              "      <td>0.342199</td>\n",
              "      <td>1</td>\n",
              "      <td>0.0</td>\n",
              "      <td>0.698020</td>\n",
              "      <td>0</td>\n",
              "      <td>0.548387</td>\n",
              "      <td>0.5</td>\n",
              "      <td>0.666667</td>\n",
              "      <td>1.0</td>\n",
              "    </tr>\n",
              "    <tr>\n",
              "      <th>107</th>\n",
              "      <td>0.701299</td>\n",
              "      <td>1</td>\n",
              "      <td>0.666667</td>\n",
              "      <td>0.625</td>\n",
              "      <td>0.484043</td>\n",
              "      <td>0</td>\n",
              "      <td>1.0</td>\n",
              "      <td>0.752475</td>\n",
              "      <td>0</td>\n",
              "      <td>0.080645</td>\n",
              "      <td>1.0</td>\n",
              "      <td>0.333333</td>\n",
              "      <td>0.0</td>\n",
              "    </tr>\n",
              "    <tr>\n",
              "      <th>219</th>\n",
              "      <td>0.753247</td>\n",
              "      <td>0</td>\n",
              "      <td>1.000000</td>\n",
              "      <td>0.850</td>\n",
              "      <td>0.398936</td>\n",
              "      <td>1</td>\n",
              "      <td>1.0</td>\n",
              "      <td>0.722772</td>\n",
              "      <td>1</td>\n",
              "      <td>0.451613</td>\n",
              "      <td>0.5</td>\n",
              "      <td>0.666667</td>\n",
              "      <td>0.5</td>\n",
              "    </tr>\n",
              "    <tr>\n",
              "      <th>217</th>\n",
              "      <td>0.753247</td>\n",
              "      <td>1</td>\n",
              "      <td>1.000000</td>\n",
              "      <td>0.730</td>\n",
              "      <td>0.386525</td>\n",
              "      <td>0</td>\n",
              "      <td>0.0</td>\n",
              "      <td>0.519802</td>\n",
              "      <td>0</td>\n",
              "      <td>0.322581</td>\n",
              "      <td>0.5</td>\n",
              "      <td>0.333333</td>\n",
              "      <td>1.0</td>\n",
              "    </tr>\n",
              "    <tr>\n",
              "      <th>39</th>\n",
              "      <td>0.727273</td>\n",
              "      <td>1</td>\n",
              "      <td>0.333333</td>\n",
              "      <td>0.650</td>\n",
              "      <td>0.391844</td>\n",
              "      <td>0</td>\n",
              "      <td>1.0</td>\n",
              "      <td>0.806931</td>\n",
              "      <td>0</td>\n",
              "      <td>0.000000</td>\n",
              "      <td>0.0</td>\n",
              "      <td>0.000000</td>\n",
              "      <td>1.0</td>\n",
              "    </tr>\n",
              "    <tr>\n",
              "      <th>...</th>\n",
              "      <td>...</td>\n",
              "      <td>...</td>\n",
              "      <td>...</td>\n",
              "      <td>...</td>\n",
              "      <td>...</td>\n",
              "      <td>...</td>\n",
              "      <td>...</td>\n",
              "      <td>...</td>\n",
              "      <td>...</td>\n",
              "      <td>...</td>\n",
              "      <td>...</td>\n",
              "      <td>...</td>\n",
              "      <td>...</td>\n",
              "    </tr>\n",
              "    <tr>\n",
              "      <th>203</th>\n",
              "      <td>0.779221</td>\n",
              "      <td>1</td>\n",
              "      <td>1.000000</td>\n",
              "      <td>0.585</td>\n",
              "      <td>0.407801</td>\n",
              "      <td>1</td>\n",
              "      <td>0.0</td>\n",
              "      <td>0.792079</td>\n",
              "      <td>1</td>\n",
              "      <td>0.225806</td>\n",
              "      <td>0.0</td>\n",
              "      <td>0.666667</td>\n",
              "      <td>1.0</td>\n",
              "    </tr>\n",
              "    <tr>\n",
              "      <th>255</th>\n",
              "      <td>0.675325</td>\n",
              "      <td>1</td>\n",
              "      <td>1.000000</td>\n",
              "      <td>0.640</td>\n",
              "      <td>0.452128</td>\n",
              "      <td>0</td>\n",
              "      <td>0.0</td>\n",
              "      <td>0.797030</td>\n",
              "      <td>1</td>\n",
              "      <td>0.000000</td>\n",
              "      <td>0.0</td>\n",
              "      <td>0.333333</td>\n",
              "      <td>1.0</td>\n",
              "    </tr>\n",
              "    <tr>\n",
              "      <th>72</th>\n",
              "      <td>0.987013</td>\n",
              "      <td>0</td>\n",
              "      <td>0.666667</td>\n",
              "      <td>0.700</td>\n",
              "      <td>0.349291</td>\n",
              "      <td>0</td>\n",
              "      <td>0.5</td>\n",
              "      <td>0.574257</td>\n",
              "      <td>0</td>\n",
              "      <td>0.177419</td>\n",
              "      <td>0.5</td>\n",
              "      <td>0.000000</td>\n",
              "      <td>0.0</td>\n",
              "    </tr>\n",
              "    <tr>\n",
              "      <th>235</th>\n",
              "      <td>0.727273</td>\n",
              "      <td>1</td>\n",
              "      <td>1.000000</td>\n",
              "      <td>0.650</td>\n",
              "      <td>0.501773</td>\n",
              "      <td>1</td>\n",
              "      <td>1.0</td>\n",
              "      <td>0.509901</td>\n",
              "      <td>1</td>\n",
              "      <td>0.258065</td>\n",
              "      <td>1.0</td>\n",
              "      <td>0.000000</td>\n",
              "      <td>1.0</td>\n",
              "    </tr>\n",
              "    <tr>\n",
              "      <th>37</th>\n",
              "      <td>0.727273</td>\n",
              "      <td>0</td>\n",
              "      <td>0.333333</td>\n",
              "      <td>0.700</td>\n",
              "      <td>0.521277</td>\n",
              "      <td>0</td>\n",
              "      <td>1.0</td>\n",
              "      <td>0.757426</td>\n",
              "      <td>0</td>\n",
              "      <td>0.209677</td>\n",
              "      <td>0.5</td>\n",
              "      <td>0.000000</td>\n",
              "      <td>0.0</td>\n",
              "    </tr>\n",
              "  </tbody>\n",
              "</table>\n",
              "<p>237 rows × 13 columns</p>\n",
              "</div>\n",
              "      <button class=\"colab-df-convert\" onclick=\"convertToInteractive('df-45484dae-4586-4699-9ad2-312154c08ebf')\"\n",
              "              title=\"Convert this dataframe to an interactive table.\"\n",
              "              style=\"display:none;\">\n",
              "        \n",
              "  <svg xmlns=\"http://www.w3.org/2000/svg\" height=\"24px\"viewBox=\"0 0 24 24\"\n",
              "       width=\"24px\">\n",
              "    <path d=\"M0 0h24v24H0V0z\" fill=\"none\"/>\n",
              "    <path d=\"M18.56 5.44l.94 2.06.94-2.06 2.06-.94-2.06-.94-.94-2.06-.94 2.06-2.06.94zm-11 1L8.5 8.5l.94-2.06 2.06-.94-2.06-.94L8.5 2.5l-.94 2.06-2.06.94zm10 10l.94 2.06.94-2.06 2.06-.94-2.06-.94-.94-2.06-.94 2.06-2.06.94z\"/><path d=\"M17.41 7.96l-1.37-1.37c-.4-.4-.92-.59-1.43-.59-.52 0-1.04.2-1.43.59L10.3 9.45l-7.72 7.72c-.78.78-.78 2.05 0 2.83L4 21.41c.39.39.9.59 1.41.59.51 0 1.02-.2 1.41-.59l7.78-7.78 2.81-2.81c.8-.78.8-2.07 0-2.86zM5.41 20L4 18.59l7.72-7.72 1.47 1.35L5.41 20z\"/>\n",
              "  </svg>\n",
              "      </button>\n",
              "      \n",
              "  <style>\n",
              "    .colab-df-container {\n",
              "      display:flex;\n",
              "      flex-wrap:wrap;\n",
              "      gap: 12px;\n",
              "    }\n",
              "\n",
              "    .colab-df-convert {\n",
              "      background-color: #E8F0FE;\n",
              "      border: none;\n",
              "      border-radius: 50%;\n",
              "      cursor: pointer;\n",
              "      display: none;\n",
              "      fill: #1967D2;\n",
              "      height: 32px;\n",
              "      padding: 0 0 0 0;\n",
              "      width: 32px;\n",
              "    }\n",
              "\n",
              "    .colab-df-convert:hover {\n",
              "      background-color: #E2EBFA;\n",
              "      box-shadow: 0px 1px 2px rgba(60, 64, 67, 0.3), 0px 1px 3px 1px rgba(60, 64, 67, 0.15);\n",
              "      fill: #174EA6;\n",
              "    }\n",
              "\n",
              "    [theme=dark] .colab-df-convert {\n",
              "      background-color: #3B4455;\n",
              "      fill: #D2E3FC;\n",
              "    }\n",
              "\n",
              "    [theme=dark] .colab-df-convert:hover {\n",
              "      background-color: #434B5C;\n",
              "      box-shadow: 0px 1px 3px 1px rgba(0, 0, 0, 0.15);\n",
              "      filter: drop-shadow(0px 1px 2px rgba(0, 0, 0, 0.3));\n",
              "      fill: #FFFFFF;\n",
              "    }\n",
              "  </style>\n",
              "\n",
              "      <script>\n",
              "        const buttonEl =\n",
              "          document.querySelector('#df-45484dae-4586-4699-9ad2-312154c08ebf button.colab-df-convert');\n",
              "        buttonEl.style.display =\n",
              "          google.colab.kernel.accessAllowed ? 'block' : 'none';\n",
              "\n",
              "        async function convertToInteractive(key) {\n",
              "          const element = document.querySelector('#df-45484dae-4586-4699-9ad2-312154c08ebf');\n",
              "          const dataTable =\n",
              "            await google.colab.kernel.invokeFunction('convertToInteractive',\n",
              "                                                     [key], {});\n",
              "          if (!dataTable) return;\n",
              "\n",
              "          const docLinkHtml = 'Like what you see? Visit the ' +\n",
              "            '<a target=\"_blank\" href=https://colab.research.google.com/notebooks/data_table.ipynb>data table notebook</a>'\n",
              "            + ' to learn more about interactive tables.';\n",
              "          element.innerHTML = '';\n",
              "          dataTable['output_type'] = 'display_data';\n",
              "          await google.colab.output.renderOutput(dataTable, element);\n",
              "          const docLink = document.createElement('div');\n",
              "          docLink.innerHTML = docLinkHtml;\n",
              "          element.appendChild(docLink);\n",
              "        }\n",
              "      </script>\n",
              "    </div>\n",
              "  </div>\n",
              "  "
            ]
          },
          "metadata": {},
          "execution_count": 11
        }
      ],
      "source": [
        "X_train"
      ]
    },
    {
      "cell_type": "code",
      "execution_count": 12,
      "id": "0210e257",
      "metadata": {
        "colab": {
          "base_uri": "https://localhost:8080/"
        },
        "id": "0210e257",
        "outputId": "4e580046-d20f-44aa-c133-f7320821ae17"
      },
      "outputs": [
        {
          "output_type": "execute_result",
          "data": {
            "text/plain": [
              "159    1\n",
              "107    0\n",
              "219    1\n",
              "217    1\n",
              "39     0\n",
              "      ..\n",
              "203    1\n",
              "255    1\n",
              "72     0\n",
              "235    1\n",
              "37     0\n",
              "Name: condition, Length: 237, dtype: int64"
            ]
          },
          "metadata": {},
          "execution_count": 12
        }
      ],
      "source": [
        "y_train"
      ]
    },
    {
      "cell_type": "markdown",
      "id": "58ebfa88",
      "metadata": {
        "id": "58ebfa88"
      },
      "source": [
        "3 models to test for best accuracy\n",
        "1. Logistic Regression\n",
        "2. K-Nearest Neighbours Classifier\n",
        "3. Random Forest Classifier"
      ]
    },
    {
      "cell_type": "code",
      "execution_count": 13,
      "id": "636c2862",
      "metadata": {
        "id": "636c2862"
      },
      "outputs": [],
      "source": [
        "# Models in a dictionary for simplicity\n",
        "\n",
        "models = {\"Logistic Regression\": LogisticRegression(),\n",
        "          \"KNN\": KNeighborsClassifier(),\n",
        "          \"Random Forest Classifier\": RandomForestClassifier()}\n",
        "\n",
        "# Funtion to train and score models\n",
        "\n",
        "def fit_and_score(models, X_train, X_test, y_train, y_test):\n",
        "    '''\n",
        "    Fits and evaluates machine learning models.\n",
        "    models : a dictionary of three different sci-kit learning models\n",
        "    X_train = training data\n",
        "    X_test = test data\n",
        "    y_train = training labels\n",
        "    y_test = test labels\n",
        "    '''\n",
        "    \n",
        "    # Set Random Seed\n",
        "    np.random.seed(1)\n",
        "    # make a dictionary to keep model scores\n",
        "    model_scores = {}\n",
        "    # Loop through models\n",
        "    for name, model in models.items():\n",
        "        model.fit(X_train, y_train)\n",
        "        model_scores[name] = model.score(X_test, y_test)\n",
        "    return model_scores\n",
        "        "
      ]
    },
    {
      "cell_type": "code",
      "execution_count": 14,
      "id": "764d8607",
      "metadata": {
        "id": "764d8607",
        "outputId": "f8e39522-d098-4e7c-f869-b805e68bd8d8",
        "colab": {
          "base_uri": "https://localhost:8080/"
        }
      },
      "outputs": [
        {
          "output_type": "execute_result",
          "data": {
            "text/plain": [
              "{'KNN': 0.7666666666666667,\n",
              " 'Logistic Regression': 0.8666666666666667,\n",
              " 'Random Forest Classifier': 0.85}"
            ]
          },
          "metadata": {},
          "execution_count": 14
        }
      ],
      "source": [
        "model_scores = fit_and_score(models=models,\n",
        "                             X_train = X_train,\n",
        "                             X_test = X_test,\n",
        "                             y_train = y_train,\n",
        "                             y_test = y_test)\n",
        "\n",
        "model_scores"
      ]
    },
    {
      "cell_type": "markdown",
      "id": "d57dd86b",
      "metadata": {
        "id": "d57dd86b"
      },
      "source": [
        "### Initial Model Comparison"
      ]
    },
    {
      "cell_type": "code",
      "execution_count": 15,
      "id": "5b4c0cf1",
      "metadata": {
        "id": "5b4c0cf1",
        "outputId": "d02d0d8f-4186-4000-9863-a1eb30cca61a",
        "colab": {
          "base_uri": "https://localhost:8080/",
          "height": 379
        }
      },
      "outputs": [
        {
          "output_type": "display_data",
          "data": {
            "text/plain": [
              "<Figure size 432x288 with 1 Axes>"
            ],
            "image/png": "[encoded data removed]"
          },
          "metadata": {
            "needs_background": "light"
          }
        }
      ],
      "source": [
        "model_comparison = pd.DataFrame(model_scores, index=[\"accuracy\"])\n",
        "model_comparison.T.plot.bar();"
      ]
    },
    {
      "cell_type": "markdown",
      "id": "cb23ae99",
      "metadata": {
        "id": "cb23ae99"
      },
      "source": [
        "### Hyperparameter Tuning"
      ]
    },
    {
      "cell_type": "code",
      "execution_count": 16,
      "id": "e845a10e",
      "metadata": {
        "id": "e845a10e"
      },
      "outputs": [],
      "source": [
        "# KNN tuning\n",
        "\n",
        "train_scores = []\n",
        "test_scores = []\n",
        "\n",
        "# Create a list of different values for n_neighbors\n",
        "neighbors = range(1, 21)\n",
        "\n",
        "# KNN instance setup\n",
        "knn = KNeighborsClassifier()\n",
        "\n",
        "# Loop through different n_neighbors\n",
        "for i in neighbors:\n",
        "    knn.set_params(n_neighbors=i)\n",
        "    \n",
        "    knn.fit(X_train,y_train)\n",
        "    train_scores.append(knn.score(X_train,y_train))\n",
        "    test_scores.append(knn.score(X_test,y_test))\n",
        "    "
      ]
    },
    {
      "cell_type": "code",
      "execution_count": 17,
      "id": "9ed8df2d",
      "metadata": {
        "id": "9ed8df2d",
        "outputId": "49423adc-32db-4302-c0ff-36d83fbac58f",
        "colab": {
          "base_uri": "https://localhost:8080/",
          "height": 279
        }
      },
      "outputs": [
        {
          "output_type": "display_data",
          "data": {
            "text/plain": [
              "<Figure size 432x288 with 1 Axes>"
            ],
            "image/png": "[encoded data removed]"
          },
          "metadata": {
            "needs_background": "light"
          }
        }
      ],
      "source": [
        "plt.plot(neighbors, train_scores, label=\"Train score\")\n",
        "plt.plot(neighbors, test_scores, label=\"Test score\")\n",
        "plt.xlabel(\"Number of neighbors\")\n",
        "plt.ylabel(\"Model score\")\n",
        "plt.legend();"
      ]
    },
    {
      "cell_type": "code",
      "execution_count": 18,
      "id": "368ac336",
      "metadata": {
        "id": "368ac336"
      },
      "outputs": [],
      "source": [
        "# Create hyperparamater grid for Logistic Regression\n",
        "log_reg_grid = {\"C\": np.logspace(-4,4, 20),\n",
        "                \"solver\": [\"liblinear\"]}\n",
        "\n",
        "# Create a hyperparameter grid for RandomForestClassifier\n",
        "\n",
        "rf_grid = {\"n_estimators\": np.arange(10, 1000, 50),\n",
        "           \"max_depth\": [None, 3, 5, 10],\n",
        "           \"min_samples_split\": np.arange(2, 20, 2),\n",
        "           \"min_samples_leaf\": np.arange(1, 20, 2)}"
      ]
    },
    {
      "cell_type": "code",
      "execution_count": 19,
      "id": "3189d971",
      "metadata": {
        "id": "3189d971",
        "outputId": "cb5a6da1-e73b-42a6-eb3c-f610f01aad14",
        "colab": {
          "base_uri": "https://localhost:8080/"
        }
      },
      "outputs": [
        {
          "output_type": "stream",
          "name": "stdout",
          "text": [
            "Fitting 5 folds for each of 20 candidates, totalling 100 fits\n"
          ]
        },
        {
          "output_type": "execute_result",
          "data": {
            "text/plain": [
              "RandomizedSearchCV(cv=5, estimator=LogisticRegression(), n_iter=20,\n",
              "                   param_distributions={'C': array([1.00000000e-04, 2.63665090e-04, 6.95192796e-04, 1.83298071e-03,\n",
              "       4.83293024e-03, 1.27427499e-02, 3.35981829e-02, 8.85866790e-02,\n",
              "       2.33572147e-01, 6.15848211e-01, 1.62377674e+00, 4.28133240e+00,\n",
              "       1.12883789e+01, 2.97635144e+01, 7.84759970e+01, 2.06913808e+02,\n",
              "       5.45559478e+02, 1.43844989e+03, 3.79269019e+03, 1.00000000e+04]),\n",
              "                                        'solver': ['liblinear']},\n",
              "                   verbose=True)"
            ]
          },
          "metadata": {},
          "execution_count": 19
        }
      ],
      "source": [
        "# Tune Logisitic Regression \n",
        "np.random.seed(42)\n",
        "\n",
        "# Set up random hyperparamater search for logistic regression\n",
        "\n",
        "rs_log_reg = RandomizedSearchCV(LogisticRegression(),\n",
        "                                param_distributions=log_reg_grid,\n",
        "                                cv=5,\n",
        "                                n_iter=20,\n",
        "                                verbose=True)\n",
        "\n",
        "# Fit random hyperparameter search for model logisticregression\n",
        "\n",
        "rs_log_reg.fit(X_train, y_train)"
      ]
    },
    {
      "cell_type": "code",
      "execution_count": 20,
      "id": "95a67dad",
      "metadata": {
        "id": "95a67dad",
        "outputId": "4c30efc4-15ca-4af5-c404-5c230f17f383",
        "colab": {
          "base_uri": "https://localhost:8080/"
        }
      },
      "outputs": [
        {
          "output_type": "execute_result",
          "data": {
            "text/plain": [
              "0.8166666666666667"
            ]
          },
          "metadata": {},
          "execution_count": 20
        }
      ],
      "source": [
        "rs_log_reg.score(X_test, y_test)\n",
        "\n",
        "#Comment: tuned looks just as good as out-of-the-box value"
      ]
    },
    {
      "cell_type": "code",
      "execution_count": 21,
      "id": "2c9e2d73",
      "metadata": {
        "id": "2c9e2d73",
        "outputId": "78d3cac3-e18b-4a44-890f-644ae926a40c",
        "colab": {
          "base_uri": "https://localhost:8080/"
        }
      },
      "outputs": [
        {
          "output_type": "stream",
          "name": "stdout",
          "text": [
            "Fitting 5 folds for each of 20 candidates, totalling 100 fits\n"
          ]
        },
        {
          "output_type": "execute_result",
          "data": {
            "text/plain": [
              "RandomizedSearchCV(cv=5, estimator=RandomForestClassifier(), n_iter=20,\n",
              "                   param_distributions={'max_depth': [None, 3, 5, 10],\n",
              "                                        'min_samples_leaf': array([ 1,  3,  5,  7,  9, 11, 13, 15, 17, 19]),\n",
              "                                        'min_samples_split': array([ 2,  4,  6,  8, 10, 12, 14, 16, 18]),\n",
              "                                        'n_estimators': array([ 10,  60, 110, 160, 210, 260, 310, 360, 410, 460, 510, 560, 610,\n",
              "       660, 710, 760, 810, 860, 910, 960])},\n",
              "                   verbose=True)"
            ]
          },
          "metadata": {},
          "execution_count": 21
        }
      ],
      "source": [
        "# RandomForest tuning\n",
        "\n",
        "np.random.seed(42)\n",
        "\n",
        "# Set up random hyperpameter search\n",
        "\n",
        "rs_rf = RandomizedSearchCV(RandomForestClassifier(),\n",
        "                           param_distributions=rf_grid,\n",
        "                           cv = 5,\n",
        "                           n_iter=20,\n",
        "                           verbose = True)\n",
        "\n",
        "# Fit random hyperparamter search for RandomForestClassifier()\n",
        "\n",
        "rs_rf.fit(X_train,y_train)"
      ]
    },
    {
      "cell_type": "code",
      "execution_count": 22,
      "id": "bb4db4c2",
      "metadata": {
        "id": "bb4db4c2",
        "outputId": "e296309b-ce93-42f0-e6d8-e5ccf0e402b3",
        "colab": {
          "base_uri": "https://localhost:8080/"
        }
      },
      "outputs": [
        {
          "output_type": "execute_result",
          "data": {
            "text/plain": [
              "{'max_depth': 3,\n",
              " 'min_samples_leaf': 19,\n",
              " 'min_samples_split': 4,\n",
              " 'n_estimators': 210}"
            ]
          },
          "metadata": {},
          "execution_count": 22
        }
      ],
      "source": [
        "rs_rf.best_params_"
      ]
    },
    {
      "cell_type": "code",
      "execution_count": 23,
      "id": "10ca09fa",
      "metadata": {
        "id": "10ca09fa",
        "outputId": "f41ccc41-10fb-4c45-cb6e-556da1220f32",
        "colab": {
          "base_uri": "https://localhost:8080/"
        }
      },
      "outputs": [
        {
          "output_type": "execute_result",
          "data": {
            "text/plain": [
              "0.8666666666666667"
            ]
          },
          "metadata": {},
          "execution_count": 23
        }
      ],
      "source": [
        "rs_rf.score(X_test, y_test)"
      ]
    },
    {
      "cell_type": "code",
      "execution_count": 24,
      "id": "62d67636",
      "metadata": {
        "colab": {
          "base_uri": "https://localhost:8080/"
        },
        "id": "62d67636",
        "outputId": "f6a32938-c845-4c57-be6f-0f4cbaba520f"
      },
      "outputs": [
        {
          "output_type": "stream",
          "name": "stdout",
          "text": [
            "Fitting 5 folds for each of 30 candidates, totalling 150 fits\n"
          ]
        }
      ],
      "source": [
        "# different hyperparameters for our logisticregression model\n",
        "\n",
        "log_reg_grid = {\"C\": np.logspace(-4, 4, 30),\n",
        "                \"solver\": [\"liblinear\"]}\n",
        "\n",
        "# Set up grid hyperparamater search for logisitic regression\n",
        "gs_log_reg = GridSearchCV(LogisticRegression(),\n",
        "                          param_grid=log_reg_grid,\n",
        "                          cv = 5,\n",
        "                          verbose=True)\n",
        "\n",
        "# Fit grid hyperparamater search model\n",
        "gs_log_reg.fit(X_train,y_train);"
      ]
    },
    {
      "cell_type": "code",
      "execution_count": 25,
      "id": "83d640a8",
      "metadata": {
        "id": "83d640a8",
        "outputId": "b13e73fe-f2d1-494e-fc0e-223797fe55d6",
        "colab": {
          "base_uri": "https://localhost:8080/"
        }
      },
      "outputs": [
        {
          "output_type": "execute_result",
          "data": {
            "text/plain": [
              "{'C': 0.7278953843983146, 'solver': 'liblinear'}"
            ]
          },
          "metadata": {},
          "execution_count": 25
        }
      ],
      "source": [
        "# best aparm\n",
        "\n",
        "gs_log_reg.best_params_"
      ]
    },
    {
      "cell_type": "code",
      "execution_count": 26,
      "id": "cc2cfcd2",
      "metadata": {
        "id": "cc2cfcd2",
        "outputId": "2c80782a-fd28-42fc-bc39-8ef06474329d",
        "colab": {
          "base_uri": "https://localhost:8080/"
        }
      },
      "outputs": [
        {
          "output_type": "execute_result",
          "data": {
            "text/plain": [
              "0.8166666666666667"
            ]
          },
          "metadata": {},
          "execution_count": 26
        }
      ],
      "source": [
        "# eval the grid search model\n",
        "\n",
        "gs_log_reg.score(X_test,y_test)"
      ]
    },
    {
      "cell_type": "markdown",
      "id": "abd24a37",
      "metadata": {
        "id": "abd24a37"
      },
      "source": [
        "### Evaluate tuned machine learning classifiers beyond accuracy\n",
        "* ROC\n",
        "* confusion matrix\n",
        "* classification report\n",
        "* precision\n",
        "* recall\n",
        "* f1-score"
      ]
    },
    {
      "cell_type": "code",
      "execution_count": 27,
      "id": "052ffb9b",
      "metadata": {
        "id": "052ffb9b",
        "outputId": "70c0821a-4a5e-4769-a67d-943959651602",
        "colab": {
          "base_uri": "https://localhost:8080/"
        }
      },
      "outputs": [
        {
          "output_type": "execute_result",
          "data": {
            "text/plain": [
              "array([0, 1, 0, 1, 0, 1, 0, 0, 0, 0, 0, 0, 0, 1, 1, 1, 1, 0, 1, 0, 1, 0,\n",
              "       0, 0, 0, 1, 1, 1, 1, 0, 1, 1, 0, 1, 1, 1, 1, 0, 0, 1, 0, 0, 1, 1,\n",
              "       1, 0, 0, 1, 0, 1, 1, 0, 1, 0, 1, 1, 1, 0, 0, 1])"
            ]
          },
          "metadata": {},
          "execution_count": 27
        }
      ],
      "source": [
        "# Make predictions w/ tuned model\n",
        "\n",
        "y_predict = gs_log_reg.predict(X_test)\n",
        "y_predict"
      ]
    },
    {
      "cell_type": "code",
      "execution_count": 28,
      "id": "be0bb89a",
      "metadata": {
        "id": "be0bb89a",
        "outputId": "388d49bd-f626-40ee-b741-b740b8ad3dbe",
        "colab": {
          "base_uri": "https://localhost:8080/",
          "height": 335
        }
      },
      "outputs": [
        {
          "output_type": "stream",
          "name": "stderr",
          "text": [
            "/usr/local/lib/python3.7/dist-packages/sklearn/utils/deprecation.py:87: FutureWarning: Function plot_roc_curve is deprecated; Function :func:`plot_roc_curve` is deprecated in 1.0 and will be removed in 1.2. Use one of the class methods: :meth:`sklearn.metric.RocCurveDisplay.from_predictions` or :meth:`sklearn.metric.RocCurveDisplay.from_estimator`.\n",
            "  warnings.warn(msg, category=FutureWarning)\n"
          ]
        },
        {
          "output_type": "display_data",
          "data": {
            "text/plain": [
              "<Figure size 432x288 with 1 Axes>"
            ],
            "image/png": "[encoded data removed]"
          },
          "metadata": {
            "needs_background": "light"
          }
        }
      ],
      "source": [
        "plot_roc_curve(gs_log_reg, X_test, y_test);"
      ]
    },
    {
      "cell_type": "code",
      "execution_count": 29,
      "id": "ee3a32a6",
      "metadata": {
        "id": "ee3a32a6",
        "outputId": "0c79b7cc-e227-4744-e394-1b77b6c2cca6",
        "colab": {
          "base_uri": "https://localhost:8080/"
        }
      },
      "outputs": [
        {
          "output_type": "stream",
          "name": "stdout",
          "text": [
            "[[25  7]\n",
            " [ 4 24]]\n"
          ]
        }
      ],
      "source": [
        "# Confusion Matrix\n",
        "print(confusion_matrix(y_test,y_predict))"
      ]
    },
    {
      "cell_type": "code",
      "execution_count": 30,
      "id": "74a194c3",
      "metadata": {
        "id": "74a194c3",
        "outputId": "89976cd7-25b1-4ffd-e4d5-908ece54bcb4",
        "colab": {
          "base_uri": "https://localhost:8080/",
          "height": 308
        }
      },
      "outputs": [
        {
          "output_type": "display_data",
          "data": {
            "text/plain": [
              "<Figure size 288x288 with 2 Axes>"
            ],
            "image/png": "[encoded data removed]"
          },
          "metadata": {
            "needs_background": "light"
          }
        }
      ],
      "source": [
        "sns.set_context(\"talk\")\n",
        "plt.figure(figsize=(4, 4))\n",
        "sns.heatmap(confusion_matrix(y_test, y_predict), \n",
        "             annot=True, \n",
        "             xticklabels=[\"Healthy\", \"Sick\"], \n",
        "             yticklabels=[\"Healthy\", \"Sick\"], \n",
        "             fmt=\"g\", \n",
        "             cmap=\"icefire_r\")\n",
        "plt.ylabel(\"Predicted\")\n",
        "plt.xlabel(\"Actual\")\n",
        "plt.show()"
      ]
    },
    {
      "cell_type": "code",
      "execution_count": 31,
      "id": "47da4c9b",
      "metadata": {
        "id": "47da4c9b",
        "outputId": "6ec331f2-cb65-40ae-fbf4-6208dbc24bc4",
        "colab": {
          "base_uri": "https://localhost:8080/"
        }
      },
      "outputs": [
        {
          "output_type": "stream",
          "name": "stdout",
          "text": [
            "              precision    recall  f1-score   support\n",
            "\n",
            "           0       0.86      0.78      0.82        32\n",
            "           1       0.77      0.86      0.81        28\n",
            "\n",
            "    accuracy                           0.82        60\n",
            "   macro avg       0.82      0.82      0.82        60\n",
            "weighted avg       0.82      0.82      0.82        60\n",
            "\n"
          ]
        }
      ],
      "source": [
        "print(classification_report(y_test, y_predict))"
      ]
    },
    {
      "cell_type": "markdown",
      "id": "980d9a7a",
      "metadata": {
        "id": "980d9a7a"
      },
      "source": [
        "### Calculate evaluation metrics using cross-validation\n",
        "\n"
      ]
    },
    {
      "cell_type": "code",
      "execution_count": 32,
      "id": "ad0e9d8c",
      "metadata": {
        "id": "ad0e9d8c",
        "outputId": "994b6ad0-faf3-401a-d55d-e7f992e56c92",
        "colab": {
          "base_uri": "https://localhost:8080/"
        }
      },
      "outputs": [
        {
          "output_type": "execute_result",
          "data": {
            "text/plain": [
              "{'C': 0.7278953843983146, 'solver': 'liblinear'}"
            ]
          },
          "metadata": {},
          "execution_count": 32
        }
      ],
      "source": [
        "# Check best hyperparams\n",
        "\n",
        "gs_log_reg.best_params_"
      ]
    },
    {
      "cell_type": "code",
      "execution_count": 33,
      "id": "7b439e08",
      "metadata": {
        "id": "7b439e08"
      },
      "outputs": [],
      "source": [
        "# Create a new classifier w/ best parameters\n",
        "\n",
        "clf = LogisticRegression(C=0.20433597178569418,\n",
        "                         solver = \"liblinear\")"
      ]
    },
    {
      "cell_type": "code",
      "execution_count": 34,
      "id": "c2dd0baa",
      "metadata": {
        "id": "c2dd0baa",
        "outputId": "5f5f1314-3e60-4e91-83f4-58798b450358",
        "colab": {
          "base_uri": "https://localhost:8080/"
        }
      },
      "outputs": [
        {
          "output_type": "execute_result",
          "data": {
            "text/plain": [
              "0.8217514124293785"
            ]
          },
          "metadata": {},
          "execution_count": 34
        }
      ],
      "source": [
        "# Cross-validated accuracy\n",
        "\n",
        "cv_acc = cross_val_score(clf,\n",
        "                         X,\n",
        "                         y,\n",
        "                         cv=5,\n",
        "                         scoring=\"accuracy\")\n",
        "cv_acc = np.mean(cv_acc)\n",
        "cv_acc"
      ]
    },
    {
      "cell_type": "code",
      "execution_count": 35,
      "id": "c42bfe63",
      "metadata": {
        "id": "c42bfe63",
        "outputId": "776672d7-ffb3-45c0-da04-18101b19121b",
        "colab": {
          "base_uri": "https://localhost:8080/"
        }
      },
      "outputs": [
        {
          "output_type": "execute_result",
          "data": {
            "text/plain": [
              "0.8196691480562448"
            ]
          },
          "metadata": {},
          "execution_count": 35
        }
      ],
      "source": [
        "# Cross-validated precision\n",
        "\n",
        "cv_pres = cross_val_score(clf,\n",
        "                          X,\n",
        "                          y,\n",
        "                          cv=5,\n",
        "                          scoring=\"precision\")\n",
        "\n",
        "cv_pres = np.mean(cv_pres)\n",
        "cv_pres"
      ]
    },
    {
      "cell_type": "code",
      "execution_count": 36,
      "id": "295c71d0",
      "metadata": {
        "id": "295c71d0",
        "outputId": "ca02ecea-bebc-4191-8582-8941d50e4fa7",
        "colab": {
          "base_uri": "https://localhost:8080/"
        }
      },
      "outputs": [
        {
          "output_type": "execute_result",
          "data": {
            "text/plain": [
              "0.7904761904761906"
            ]
          },
          "metadata": {},
          "execution_count": 36
        }
      ],
      "source": [
        "# Cross-validated recall\n",
        "\n",
        "cv_recall = cross_val_score(clf,\n",
        "                          X,\n",
        "                          y,\n",
        "                          cv=5,\n",
        "                          scoring=\"recall\")\n",
        "\n",
        "cv_recall = np.mean(cv_recall)\n",
        "cv_recall"
      ]
    },
    {
      "cell_type": "code",
      "execution_count": 37,
      "id": "60480958",
      "metadata": {
        "id": "60480958",
        "outputId": "845959eb-3274-4e92-f9bd-2940586b86f2",
        "colab": {
          "base_uri": "https://localhost:8080/"
        }
      },
      "outputs": [
        {
          "output_type": "execute_result",
          "data": {
            "text/plain": [
              "0.7918860235325014"
            ]
          },
          "metadata": {},
          "execution_count": 37
        }
      ],
      "source": [
        "# Cross-validated f1-score\n",
        "cv_f1 = cross_val_score(clf,\n",
        "                          X,\n",
        "                          y,\n",
        "                          cv=5,\n",
        "                          scoring=\"f1\")\n",
        "\n",
        "cv_f1 = np.mean(cv_f1)\n",
        "cv_f1"
      ]
    },
    {
      "cell_type": "code",
      "execution_count": 39,
      "id": "58ad3307",
      "metadata": {
        "id": "58ad3307",
        "outputId": "53397be4-2570-483e-8bcc-23b7aa5af7a0",
        "colab": {
          "base_uri": "https://localhost:8080/",
          "height": 356
        }
      },
      "outputs": [
        {
          "output_type": "display_data",
          "data": {
            "text/plain": [
              "<Figure size 432x288 with 1 Axes>"
            ],
            "image/png": "[encoded data removed]"
          },
          "metadata": {
            "needs_background": "light"
          }
        }
      ],
      "source": [
        "# Vizualize cross-validated metrics\n",
        "\n",
        "cv_metrics = pd.DataFrame({\"Accuracy\": cv_acc,\n",
        "                          \"Precision\": cv_pres,\n",
        "                          \"Recall\": cv_recall,\n",
        "                          \"F1\": cv_f1},\n",
        "                          index=[0])\n",
        "\n",
        "cv_metrics.T.plot.bar(title=\"Cross-validated classifiaction metrics\", legend=False);"
      ]
    },
    {
      "cell_type": "markdown",
      "id": "fbd1d135",
      "metadata": {
        "id": "fbd1d135"
      },
      "source": [
        "### Most important features for the prediction of heart disease"
      ]
    },
    {
      "cell_type": "code",
      "execution_count": 40,
      "id": "ca8b8e9a",
      "metadata": {
        "id": "ca8b8e9a"
      },
      "outputs": [],
      "source": [
        "# Fit an instance of Logistic Regression\n",
        "\n",
        "clf = LogisticRegression(C=0.20433597178569418,\n",
        "                         solver = \"liblinear\")\n",
        "\n",
        "clf.fit(X_train,y_train);"
      ]
    },
    {
      "cell_type": "code",
      "execution_count": 41,
      "id": "49b49d5d",
      "metadata": {
        "id": "49b49d5d",
        "outputId": "6f932003-86bf-45c9-ba2f-5a7471cbf0b1",
        "colab": {
          "base_uri": "https://localhost:8080/"
        }
      },
      "outputs": [
        {
          "output_type": "execute_result",
          "data": {
            "text/plain": [
              "array([[-0.25716648,  0.41149118,  0.64215578, -0.33193545, -0.25422391,\n",
              "        -0.16563454,  0.16952395, -0.938699  ,  0.75977917,  0.38035764,\n",
              "         0.36923146,  1.1466392 ,  1.18874048]])"
            ]
          },
          "metadata": {},
          "execution_count": 41
        }
      ],
      "source": [
        "# Check coef_\n",
        "\n",
        "clf.coef_"
      ]
    },
    {
      "cell_type": "code",
      "execution_count": 42,
      "id": "aee5b314",
      "metadata": {
        "id": "aee5b314",
        "outputId": "81433656-4d29-4ada-dcf2-8a7bd2da90ed",
        "colab": {
          "base_uri": "https://localhost:8080/"
        }
      },
      "outputs": [
        {
          "output_type": "execute_result",
          "data": {
            "text/plain": [
              "{'age': -0.2571664777034556,\n",
              " 'ca': 1.14663919844345,\n",
              " 'chol': -0.2542239115427362,\n",
              " 'cp': 0.6421557811107458,\n",
              " 'exang': 0.7597791712331309,\n",
              " 'fbs': -0.1656345383559863,\n",
              " 'oldpeak': 0.3803576441373775,\n",
              " 'restecg': 0.16952394615611766,\n",
              " 'sex': 0.411491184986395,\n",
              " 'slope': 0.3692314576008491,\n",
              " 'thal': 1.188740481747938,\n",
              " 'thalach': -0.9386990033981412,\n",
              " 'trestbps': -0.3319354469817254}"
            ]
          },
          "metadata": {},
          "execution_count": 42
        }
      ],
      "source": [
        "# Match coef's of features to columns\n",
        "feature_dict = dict(zip(df.columns, list(clf.coef_[0])))\n",
        "feature_dict"
      ]
    },
    {
      "cell_type": "code",
      "execution_count": 43,
      "id": "b84a2bf6",
      "metadata": {
        "id": "b84a2bf6",
        "outputId": "95b71a75-6a93-4479-e257-cbdd38e592b2",
        "colab": {
          "base_uri": "https://localhost:8080/",
          "height": 349
        }
      },
      "outputs": [
        {
          "output_type": "display_data",
          "data": {
            "text/plain": [
              "<Figure size 432x288 with 1 Axes>"
            ],
            "image/png": "[encoded data removed]"
          },
          "metadata": {
            "needs_background": "light"
          }
        }
      ],
      "source": [
        "# Vizualize most important features\n",
        "feature_df = pd.DataFrame(feature_dict, index=[0])\n",
        "feature_df.T.plot.bar(title=\"Feature Importance\",legend=False);"
      ]
    },
    {
      "cell_type": "markdown",
      "id": "oDGE2sk-W0Gh",
      "metadata": {
        "id": "oDGE2sk-W0Gh"
      },
      "source": [
        "## Deep Learning Model: A Sanity Check\n",
        "\n",
        "This model will serve as a quick sanity check to the previous machine learning models.\n",
        "A simple deep learning model will be employed on the data to see if the results are similar to the aforementioned cross-validated accuracy.  \n"
      ]
    },
    {
      "cell_type": "code",
      "execution_count": 56,
      "id": "B8deZRlLW1i5",
      "metadata": {
        "colab": {
          "base_uri": "https://localhost:8080/"
        },
        "id": "B8deZRlLW1i5",
        "outputId": "4b52fc16-83ac-405d-ab4f-441808e6941d"
      },
      "outputs": [
        {
          "output_type": "execute_result",
          "data": {
            "text/plain": [
              "<keras.callbacks.History at 0x7fc11d69e7d0>"
            ]
          },
          "metadata": {},
          "execution_count": 56
        }
      ],
      "source": [
        "import tensorflow as tf\n",
        "\n",
        "\n",
        "\n",
        "# Set random seed\n",
        "tf.random.set_seed(1)\n",
        "\n",
        "# Simple model\n",
        "model_1 = tf.keras.Sequential([\n",
        "  tf.keras.layers.Dense(4, activation=tf.keras.activations.relu), # hidden layer 1\n",
        "  tf.keras.layers.Dense(4, activation=tf.keras.activations.relu), # hidden layer 2\n",
        "  tf.keras.layers.Dense(1, activation=tf.keras.activations.sigmoid) # ouput layer\n",
        "])\n",
        "\n",
        "# Compile the model\n",
        "model_1.compile(loss=tf.keras.losses.binary_crossentropy,\n",
        "                optimizer=tf.keras.optimizers.Adam(),\n",
        "                metrics=['accuracy'])\n",
        "\n",
        "# Fit the model\n",
        "model_1.fit(X_train, y_train, epochs=500, verbose=0)\n"
      ]
    },
    {
      "cell_type": "code",
      "execution_count": 57,
      "id": "PPDezyd2byRW",
      "metadata": {
        "colab": {
          "base_uri": "https://localhost:8080/"
        },
        "id": "PPDezyd2byRW",
        "outputId": "c6d0a1ff-64a8-45a9-ad37-b9497bcb5cc9"
      },
      "outputs": [
        {
          "output_type": "stream",
          "name": "stdout",
          "text": [
            "2/2 [==============================] - 0s 8ms/step - loss: 0.3620 - accuracy: 0.8667\n",
            "Model loss on the test set: 0.36201006174087524\n",
            "Model accuracy on the test set: 86.67%\n"
          ]
        }
      ],
      "source": [
        "# Evaluate our model on the test set\n",
        "loss, accuracy = model_1.evaluate(X_test, y_test)\n",
        "print(f\"Model loss on the test set: {loss}\")\n",
        "print(f\"Model accuracy on the test set: {100*accuracy:.2f}%\")"
      ]
    },
    {
      "cell_type": "markdown",
      "id": "cf16ba03",
      "metadata": {
        "id": "cf16ba03"
      },
      "source": [
        "### 6. Conclusions\n",
        "\n",
        "With the data provided, I was able to achieve accuracy of close to 84% with logistic regression that was cross-validated.  A simple deep learning model was also employed to obtain an accuracy of 86.67%.  This simple deep learning model was also trained between 100 to 1000 epochs and produced similiar results.  The biggest predictors for heart disease were the patient's maximum heart rate during investigation, Thalassemia diagnosis, and the outcome of fluoroscopy characterization.\n",
        "\n",
        "Possible ways to improve improve model:\n",
        "    \n",
        "    1. Collect more data (<300 pts): Data is heavily skewed w/ older males having heart disease and having a greater sample set might improve the model and outcome.\n",
        "    2. Improve current model with even more fine tuning; this is highly unlikely to improve significantly given the results of our deep learning model.\n"
      ]
    },
    {
      "cell_type": "code",
      "execution_count": null,
      "id": "19f94cfa",
      "metadata": {
        "id": "19f94cfa"
      },
      "outputs": [],
      "source": [
        ""
      ]
    }
  ],
  "metadata": {
    "colab": {
      "collapsed_sections": [],
      "name": "Copy of v2 heart_disease_classification.ipynb",
      "provenance": []
    },
    "kernelspec": {
      "display_name": "Python 3 (ipykernel)",
      "language": "python",
      "name": "python3"
    },
    "language_info": {
      "codemirror_mode": {
        "name": "ipython",
        "version": 3
      },
      "file_extension": ".py",
      "mimetype": "text/x-python",
      "name": "python",
      "nbconvert_exporter": "python",
      "pygments_lexer": "ipython3",
      "version": "3.10.2"
    }
  },
  "nbformat": 4,
  "nbformat_minor": 5
}